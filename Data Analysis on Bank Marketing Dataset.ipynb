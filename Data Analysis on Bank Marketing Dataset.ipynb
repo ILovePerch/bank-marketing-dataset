{
 "cells": [
  {
   "cell_type": "code",
   "execution_count": 14,
   "id": "54d9e751",
   "metadata": {},
   "outputs": [],
   "source": [
    "import warnings\n",
    "warnings.simplefilter(action='ignore', category=FutureWarning)\n",
    "import os\n",
    "\n",
    "import numpy as np\n",
    "import pandas as pd\n",
    "import update\n",
    "import sklearn\n",
    "import seaborn as sns\n",
    "import matplotlib.pyplot as plt\n",
    "%matplotlib inline\n",
    "\n",
    "# Inspired from stackoverflow.com/questions/25239958\n",
    "from sklearn.base import BaseEstimator, TransformerMixin\n",
    "class MostFrequentImputer(BaseEstimator, TransformerMixin):\n",
    "    def fit(self, X, y=None):\n",
    "        self.most_frequent_ = pd.Series([X[c].value_counts().index[0] for c in X],\n",
    "                                        index=X.columns)\n",
    "        return self\n",
    "    def transform(self, X, y=None):\n",
    "        return X.fillna(self.most_frequent_)\n",
    "\n",
    "pd.set_option('display.max_rows', 500)\n",
    "pd.set_option('display.max_columns', 500)\n",
    "pd.set_option('display.width', 1000)\n",
    "pd.set_option('display.max_colwidth', 1000)"
   ]
  },
  {
   "cell_type": "code",
   "execution_count": 8,
   "id": "3478193c",
   "metadata": {},
   "outputs": [
    {
     "data": {
      "text/plain": [
       "'C:\\\\Users\\\\haoni\\\\Desktop\\\\Projects\\\\New folder'"
      ]
     },
     "execution_count": 8,
     "metadata": {},
     "output_type": "execute_result"
    }
   ],
   "source": [
    "os.getcwd()"
   ]
  },
  {
   "cell_type": "code",
   "execution_count": 9,
   "id": "720a9eb1",
   "metadata": {},
   "outputs": [
    {
     "data": {
      "text/plain": [
       "'C:\\\\Users\\\\haoni\\\\Desktop\\\\Projects\\\\New folder\\\\data'"
      ]
     },
     "execution_count": 9,
     "metadata": {},
     "output_type": "execute_result"
    }
   ],
   "source": [
    "path = os.path.join(os.getcwd(), 'data')\n",
    "path"
   ]
  },
  {
   "cell_type": "code",
   "execution_count": 11,
   "id": "3851dca2",
   "metadata": {},
   "outputs": [
    {
     "data": {
      "text/plain": [
       "(42188, 8)"
      ]
     },
     "execution_count": 11,
     "metadata": {},
     "output_type": "execute_result"
    }
   ],
   "source": [
    "cust = pd.read_excel(os.path.join(path, 'cust_v2.xlsx'))\n",
    "cust.shape"
   ]
  },
  {
   "cell_type": "code",
   "execution_count": 12,
   "id": "9c1259c4",
   "metadata": {},
   "outputs": [
    {
     "data": {
      "text/plain": [
       "(41188, 8)"
      ]
     },
     "execution_count": 12,
     "metadata": {},
     "output_type": "execute_result"
    }
   ],
   "source": [
    "contact = pd.read_csv(os.path.join(path, 'contact_v2.csv'))\n",
    "contact.shape"
   ]
  },
  {
   "cell_type": "code",
   "execution_count": 13,
   "id": "7cf5ff47",
   "metadata": {},
   "outputs": [
    {
     "data": {
      "text/plain": [
       "(41188, 15)"
      ]
     },
     "execution_count": 13,
     "metadata": {},
     "output_type": "execute_result"
    }
   ],
   "source": [
    "#join 2 data sets\n",
    "cmpn = pd.merge(left=contact, right=cust, how='inner', on='cust_id')\n",
    "cmpn.shape"
   ]
  },
  {
   "cell_type": "code",
   "execution_count": null,
   "id": "da97c175",
   "metadata": {},
   "outputs": [],
   "source": [
    "#change column order\n",
    "col = ['cust_id','age','job','marital','education','default','mortgage','loan',\n",
    "       'contact_type','date','duration','contact_num','p_days','p_outcome','y']\n",
    "cmpn = cmpn[col]"
   ]
  },
  {
   "cell_type": "code",
   "execution_count": null,
   "id": "0209d00f",
   "metadata": {},
   "outputs": [],
   "source": [
    "cmpn = update.update(df=cmpn) \n",
    "# # run update function in update module(package) to add noise to the dataset"
   ]
  },
  {
   "cell_type": "code",
   "execution_count": 15,
   "id": "81246393",
   "metadata": {},
   "outputs": [
    {
     "data": {
      "text/plain": [
       "(41188, 16)"
      ]
     },
     "execution_count": 15,
     "metadata": {},
     "output_type": "execute_result"
    }
   ],
   "source": [
    "cmpn['duration_mins'] = cmpn.duration / 60\n",
    "cmpn.shape"
   ]
  },
  {
   "cell_type": "code",
   "execution_count": 23,
   "id": "4dd354fd",
   "metadata": {},
   "outputs": [
    {
     "data": {
      "text/html": [
       "<div>\n",
       "<style scoped>\n",
       "    .dataframe tbody tr th:only-of-type {\n",
       "        vertical-align: middle;\n",
       "    }\n",
       "\n",
       "    .dataframe tbody tr th {\n",
       "        vertical-align: top;\n",
       "    }\n",
       "\n",
       "    .dataframe thead th {\n",
       "        text-align: right;\n",
       "    }\n",
       "</style>\n",
       "<table border=\"1\" class=\"dataframe\">\n",
       "  <thead>\n",
       "    <tr style=\"text-align: right;\">\n",
       "      <th></th>\n",
       "      <th>cust_id</th>\n",
       "      <th>duration</th>\n",
       "      <th>contact_num</th>\n",
       "      <th>p_days</th>\n",
       "      <th>age</th>\n",
       "      <th>duration_mins</th>\n",
       "    </tr>\n",
       "  </thead>\n",
       "  <tbody>\n",
       "    <tr>\n",
       "      <th>count</th>\n",
       "      <td>41188</td>\n",
       "      <td>41188</td>\n",
       "      <td>41188</td>\n",
       "      <td>41188</td>\n",
       "      <td>41188</td>\n",
       "      <td>41188</td>\n",
       "    </tr>\n",
       "    <tr>\n",
       "      <th>mean</th>\n",
       "      <td>49882</td>\n",
       "      <td>258</td>\n",
       "      <td>2</td>\n",
       "      <td>962</td>\n",
       "      <td>40</td>\n",
       "      <td>4</td>\n",
       "    </tr>\n",
       "    <tr>\n",
       "      <th>std</th>\n",
       "      <td>28870</td>\n",
       "      <td>259</td>\n",
       "      <td>2</td>\n",
       "      <td>186</td>\n",
       "      <td>10</td>\n",
       "      <td>4</td>\n",
       "    </tr>\n",
       "    <tr>\n",
       "      <th>min</th>\n",
       "      <td>2</td>\n",
       "      <td>0</td>\n",
       "      <td>1</td>\n",
       "      <td>0</td>\n",
       "      <td>17</td>\n",
       "      <td>0</td>\n",
       "    </tr>\n",
       "    <tr>\n",
       "      <th>25%</th>\n",
       "      <td>24897</td>\n",
       "      <td>102</td>\n",
       "      <td>1</td>\n",
       "      <td>999</td>\n",
       "      <td>32</td>\n",
       "      <td>1</td>\n",
       "    </tr>\n",
       "    <tr>\n",
       "      <th>50%</th>\n",
       "      <td>49676</td>\n",
       "      <td>180</td>\n",
       "      <td>2</td>\n",
       "      <td>999</td>\n",
       "      <td>38</td>\n",
       "      <td>3</td>\n",
       "    </tr>\n",
       "    <tr>\n",
       "      <th>75%</th>\n",
       "      <td>74895</td>\n",
       "      <td>319</td>\n",
       "      <td>3</td>\n",
       "      <td>999</td>\n",
       "      <td>47</td>\n",
       "      <td>5</td>\n",
       "    </tr>\n",
       "    <tr>\n",
       "      <th>max</th>\n",
       "      <td>99999</td>\n",
       "      <td>4918</td>\n",
       "      <td>56</td>\n",
       "      <td>999</td>\n",
       "      <td>98</td>\n",
       "      <td>81</td>\n",
       "    </tr>\n",
       "  </tbody>\n",
       "</table>\n",
       "</div>"
      ],
      "text/plain": [
       "       cust_id  duration  contact_num  p_days    age  duration_mins\n",
       "count    41188     41188        41188   41188  41188          41188\n",
       "mean     49882       258            2     962     40              4\n",
       "std      28870       259            2     186     10              4\n",
       "min          2         0            1       0     17              0\n",
       "25%      24897       102            1     999     32              1\n",
       "50%      49676       180            2     999     38              3\n",
       "75%      74895       319            3     999     47              5\n",
       "max      99999      4918           56     999     98             81"
      ]
     },
     "execution_count": 23,
     "metadata": {},
     "output_type": "execute_result"
    }
   ],
   "source": [
    "# Distribution of numerical columns\n",
    "cmpn.describe().astype(int)"
   ]
  },
  {
   "cell_type": "code",
   "execution_count": 24,
   "id": "37dbf887",
   "metadata": {},
   "outputs": [
    {
     "data": {
      "text/plain": [
       "admin.           10422\n",
       "blue-collar       9254\n",
       "technician        6743\n",
       "services          3969\n",
       "management        2924\n",
       "retired           1720\n",
       "entrepreneur      1456\n",
       "self-employed     1421\n",
       "housemaid         1060\n",
       "unemployed        1014\n",
       "student            875\n",
       "unknown            330\n",
       "Name: job, dtype: int64"
      ]
     },
     "execution_count": 24,
     "metadata": {},
     "output_type": "execute_result"
    }
   ],
   "source": [
    "# Distribution of categorical variables\n",
    "cmpn.job.value_counts(dropna=False)"
   ]
  },
  {
   "cell_type": "code",
   "execution_count": 16,
   "id": "633a716a",
   "metadata": {},
   "outputs": [
    {
     "data": {
      "text/plain": [
       "university.degree      12168\n",
       "high.school             9515\n",
       "basic.9y                6045\n",
       "professional.course     5243\n",
       "basic.4y                4176\n",
       "basic.6y                2292\n",
       "unknown                 1731\n",
       "illiterate                18\n",
       "Name: education, dtype: int64"
      ]
     },
     "execution_count": 16,
     "metadata": {},
     "output_type": "execute_result"
    }
   ],
   "source": [
    "cmpn.education.value_counts()"
   ]
  },
  {
   "cell_type": "code",
   "execution_count": 17,
   "id": "2ee4873d",
   "metadata": {},
   "outputs": [
    {
     "data": {
      "text/html": [
       "<div>\n",
       "<style scoped>\n",
       "    .dataframe tbody tr th:only-of-type {\n",
       "        vertical-align: middle;\n",
       "    }\n",
       "\n",
       "    .dataframe tbody tr th {\n",
       "        vertical-align: top;\n",
       "    }\n",
       "\n",
       "    .dataframe thead th {\n",
       "        text-align: right;\n",
       "    }\n",
       "</style>\n",
       "<table border=\"1\" class=\"dataframe\">\n",
       "  <thead>\n",
       "    <tr style=\"text-align: right;\">\n",
       "      <th>y</th>\n",
       "      <th>no</th>\n",
       "      <th>yes</th>\n",
       "      <th>All</th>\n",
       "    </tr>\n",
       "    <tr>\n",
       "      <th>job</th>\n",
       "      <th></th>\n",
       "      <th></th>\n",
       "      <th></th>\n",
       "    </tr>\n",
       "  </thead>\n",
       "  <tbody>\n",
       "    <tr>\n",
       "      <th>admin.</th>\n",
       "      <td>215.093385</td>\n",
       "      <td>517.414201</td>\n",
       "      <td>254.312128</td>\n",
       "    </tr>\n",
       "    <tr>\n",
       "      <th>blue-collar</th>\n",
       "      <td>229.878018</td>\n",
       "      <td>732.673981</td>\n",
       "      <td>264.542360</td>\n",
       "    </tr>\n",
       "    <tr>\n",
       "      <th>entrepreneur</th>\n",
       "      <td>225.632883</td>\n",
       "      <td>667.540323</td>\n",
       "      <td>263.267857</td>\n",
       "    </tr>\n",
       "    <tr>\n",
       "      <th>housemaid</th>\n",
       "      <td>218.778826</td>\n",
       "      <td>535.537736</td>\n",
       "      <td>250.454717</td>\n",
       "    </tr>\n",
       "    <tr>\n",
       "      <th>management</th>\n",
       "      <td>220.828197</td>\n",
       "      <td>543.804878</td>\n",
       "      <td>257.058140</td>\n",
       "    </tr>\n",
       "    <tr>\n",
       "      <th>retired</th>\n",
       "      <td>224.263608</td>\n",
       "      <td>420.235023</td>\n",
       "      <td>273.712209</td>\n",
       "    </tr>\n",
       "    <tr>\n",
       "      <th>self-employed</th>\n",
       "      <td>222.220912</td>\n",
       "      <td>622.020134</td>\n",
       "      <td>264.142153</td>\n",
       "    </tr>\n",
       "    <tr>\n",
       "      <th>services</th>\n",
       "      <td>225.047998</td>\n",
       "      <td>634.851393</td>\n",
       "      <td>258.398085</td>\n",
       "    </tr>\n",
       "    <tr>\n",
       "      <th>student</th>\n",
       "      <td>228.851667</td>\n",
       "      <td>403.316364</td>\n",
       "      <td>283.683429</td>\n",
       "    </tr>\n",
       "    <tr>\n",
       "      <th>technician</th>\n",
       "      <td>213.452021</td>\n",
       "      <td>553.190411</td>\n",
       "      <td>250.232241</td>\n",
       "    </tr>\n",
       "    <tr>\n",
       "      <th>unemployed</th>\n",
       "      <td>212.706897</td>\n",
       "      <td>471.451389</td>\n",
       "      <td>249.451677</td>\n",
       "    </tr>\n",
       "    <tr>\n",
       "      <th>unknown</th>\n",
       "      <td>204.559727</td>\n",
       "      <td>517.756757</td>\n",
       "      <td>239.675758</td>\n",
       "    </tr>\n",
       "    <tr>\n",
       "      <th>All</th>\n",
       "      <td>220.844807</td>\n",
       "      <td>553.191164</td>\n",
       "      <td>258.285010</td>\n",
       "    </tr>\n",
       "  </tbody>\n",
       "</table>\n",
       "</div>"
      ],
      "text/plain": [
       "y                      no         yes         All\n",
       "job                                              \n",
       "admin.         215.093385  517.414201  254.312128\n",
       "blue-collar    229.878018  732.673981  264.542360\n",
       "entrepreneur   225.632883  667.540323  263.267857\n",
       "housemaid      218.778826  535.537736  250.454717\n",
       "management     220.828197  543.804878  257.058140\n",
       "retired        224.263608  420.235023  273.712209\n",
       "self-employed  222.220912  622.020134  264.142153\n",
       "services       225.047998  634.851393  258.398085\n",
       "student        228.851667  403.316364  283.683429\n",
       "technician     213.452021  553.190411  250.232241\n",
       "unemployed     212.706897  471.451389  249.451677\n",
       "unknown        204.559727  517.756757  239.675758\n",
       "All            220.844807  553.191164  258.285010"
      ]
     },
     "execution_count": 17,
     "metadata": {},
     "output_type": "execute_result"
    }
   ],
   "source": [
    "cmpn.pivot_table(values='duration', index='job', columns='y', aggfunc=np.mean, margins=True)"
   ]
  },
  {
   "cell_type": "code",
   "execution_count": 19,
   "id": "07bedd88",
   "metadata": {},
   "outputs": [
    {
     "data": {
      "text/plain": [
       "cust_id                   int64\n",
       "contact_type             object\n",
       "duration                  int64\n",
       "contact_num               int64\n",
       "p_days                    int64\n",
       "p_outcome                object\n",
       "y                        object\n",
       "date                     object\n",
       "age                       int64\n",
       "job                      object\n",
       "marital                  object\n",
       "education                object\n",
       "default                  object\n",
       "mortgage                 object\n",
       "loan                     object\n",
       "duration_mins           float64\n",
       "date1            datetime64[ns]\n",
       "dtype: object"
      ]
     },
     "execution_count": 19,
     "metadata": {},
     "output_type": "execute_result"
    }
   ],
   "source": [
    "cmpn['date1'] = pd.to_datetime(cmpn.date)\n",
    "cmpn.dtypes"
   ]
  },
  {
   "cell_type": "code",
   "execution_count": 20,
   "id": "221f7934",
   "metadata": {},
   "outputs": [],
   "source": [
    "# Create year-month (yyyymm format) string column\n",
    "cmpn.date1.dt.month\n",
    "cmpn['yrmth'] = cmpn.date1.dt.strftime('%Y%m')"
   ]
  },
  {
   "cell_type": "code",
   "execution_count": 21,
   "id": "c899a18c",
   "metadata": {},
   "outputs": [
    {
     "data": {
      "text/plain": [
       "(41188, 17)"
      ]
     },
     "execution_count": 21,
     "metadata": {},
     "output_type": "execute_result"
    }
   ],
   "source": [
    "# drop original date and rename date1 as date\n",
    "cmpn = cmpn.drop(['date'], axis=1)\n",
    "cmpn.shape"
   ]
  },
  {
   "cell_type": "code",
   "execution_count": 22,
   "id": "dbb35158",
   "metadata": {},
   "outputs": [],
   "source": [
    "cmpn = cmpn.rename(columns={'date1':'date'})"
   ]
  },
  {
   "cell_type": "code",
   "execution_count": 28,
   "id": "b0ae20df",
   "metadata": {},
   "outputs": [
    {
     "data": {
      "text/plain": [
       "(41189, 17)"
      ]
     },
     "execution_count": 28,
     "metadata": {},
     "output_type": "execute_result"
    }
   ],
   "source": [
    "cmpn = pd.read_pickle('./data/cmpn.pkl')\n",
    "cmpn.shape"
   ]
  },
  {
   "cell_type": "code",
   "execution_count": 29,
   "id": "4d461765",
   "metadata": {},
   "outputs": [],
   "source": [
    "# Drop duplicated records\n",
    "cmpn = cmpn.drop_duplicates()"
   ]
  },
  {
   "cell_type": "code",
   "execution_count": 30,
   "id": "bf705c3d",
   "metadata": {},
   "outputs": [
    {
     "name": "stdout",
     "output_type": "stream",
     "text": [
      "<class 'pandas.core.frame.DataFrame'>\n",
      "Int64Index: 41188 entries, 0 to 41187\n",
      "Data columns (total 17 columns):\n",
      " #   Column         Non-Null Count  Dtype         \n",
      "---  ------         --------------  -----         \n",
      " 0   cust_id        41188 non-null  int64         \n",
      " 1   age            40688 non-null  float64       \n",
      " 2   job            41188 non-null  object        \n",
      " 3   marital        41188 non-null  object        \n",
      " 4   education      39457 non-null  object        \n",
      " 5   default        41188 non-null  object        \n",
      " 6   mortgage       41188 non-null  object        \n",
      " 7   loan           41188 non-null  object        \n",
      " 8   contact_type   41188 non-null  object        \n",
      " 9   duration       41188 non-null  int64         \n",
      " 10  contact_num    41188 non-null  int64         \n",
      " 11  p_days         41188 non-null  int64         \n",
      " 12  p_outcome      41188 non-null  object        \n",
      " 13  y              41088 non-null  object        \n",
      " 14  duration_mins  41188 non-null  float64       \n",
      " 15  date           41188 non-null  datetime64[ns]\n",
      " 16  yrmth          41188 non-null  object        \n",
      "dtypes: datetime64[ns](1), float64(2), int64(4), object(10)\n",
      "memory usage: 5.7+ MB\n"
     ]
    }
   ],
   "source": [
    "# show data summary in a print format\n",
    "cmpn.info()"
   ]
  },
  {
   "cell_type": "code",
   "execution_count": 31,
   "id": "7894966b",
   "metadata": {},
   "outputs": [
    {
     "data": {
      "text/html": [
       "<div>\n",
       "<style scoped>\n",
       "    .dataframe tbody tr th:only-of-type {\n",
       "        vertical-align: middle;\n",
       "    }\n",
       "\n",
       "    .dataframe tbody tr th {\n",
       "        vertical-align: top;\n",
       "    }\n",
       "\n",
       "    .dataframe thead th {\n",
       "        text-align: right;\n",
       "    }\n",
       "</style>\n",
       "<table border=\"1\" class=\"dataframe\">\n",
       "  <thead>\n",
       "    <tr style=\"text-align: right;\">\n",
       "      <th></th>\n",
       "      <th>cust_id</th>\n",
       "      <th>age</th>\n",
       "      <th>job</th>\n",
       "      <th>marital</th>\n",
       "      <th>education</th>\n",
       "      <th>default</th>\n",
       "      <th>mortgage</th>\n",
       "      <th>loan</th>\n",
       "      <th>contact_type</th>\n",
       "      <th>duration</th>\n",
       "      <th>contact_num</th>\n",
       "      <th>p_days</th>\n",
       "      <th>p_outcome</th>\n",
       "      <th>y</th>\n",
       "      <th>duration_mins</th>\n",
       "      <th>date</th>\n",
       "      <th>yrmth</th>\n",
       "    </tr>\n",
       "  </thead>\n",
       "  <tbody>\n",
       "    <tr>\n",
       "      <th>0</th>\n",
       "      <td>False</td>\n",
       "      <td>False</td>\n",
       "      <td>False</td>\n",
       "      <td>False</td>\n",
       "      <td>False</td>\n",
       "      <td>False</td>\n",
       "      <td>False</td>\n",
       "      <td>False</td>\n",
       "      <td>False</td>\n",
       "      <td>False</td>\n",
       "      <td>False</td>\n",
       "      <td>False</td>\n",
       "      <td>False</td>\n",
       "      <td>False</td>\n",
       "      <td>False</td>\n",
       "      <td>False</td>\n",
       "      <td>False</td>\n",
       "    </tr>\n",
       "    <tr>\n",
       "      <th>1</th>\n",
       "      <td>False</td>\n",
       "      <td>False</td>\n",
       "      <td>False</td>\n",
       "      <td>False</td>\n",
       "      <td>False</td>\n",
       "      <td>False</td>\n",
       "      <td>False</td>\n",
       "      <td>False</td>\n",
       "      <td>False</td>\n",
       "      <td>False</td>\n",
       "      <td>False</td>\n",
       "      <td>False</td>\n",
       "      <td>False</td>\n",
       "      <td>False</td>\n",
       "      <td>False</td>\n",
       "      <td>False</td>\n",
       "      <td>False</td>\n",
       "    </tr>\n",
       "    <tr>\n",
       "      <th>2</th>\n",
       "      <td>False</td>\n",
       "      <td>False</td>\n",
       "      <td>False</td>\n",
       "      <td>False</td>\n",
       "      <td>False</td>\n",
       "      <td>False</td>\n",
       "      <td>False</td>\n",
       "      <td>False</td>\n",
       "      <td>False</td>\n",
       "      <td>False</td>\n",
       "      <td>False</td>\n",
       "      <td>False</td>\n",
       "      <td>False</td>\n",
       "      <td>False</td>\n",
       "      <td>False</td>\n",
       "      <td>False</td>\n",
       "      <td>False</td>\n",
       "    </tr>\n",
       "    <tr>\n",
       "      <th>3</th>\n",
       "      <td>False</td>\n",
       "      <td>False</td>\n",
       "      <td>False</td>\n",
       "      <td>False</td>\n",
       "      <td>False</td>\n",
       "      <td>False</td>\n",
       "      <td>False</td>\n",
       "      <td>False</td>\n",
       "      <td>False</td>\n",
       "      <td>False</td>\n",
       "      <td>False</td>\n",
       "      <td>False</td>\n",
       "      <td>False</td>\n",
       "      <td>False</td>\n",
       "      <td>False</td>\n",
       "      <td>False</td>\n",
       "      <td>False</td>\n",
       "    </tr>\n",
       "    <tr>\n",
       "      <th>4</th>\n",
       "      <td>False</td>\n",
       "      <td>False</td>\n",
       "      <td>False</td>\n",
       "      <td>False</td>\n",
       "      <td>False</td>\n",
       "      <td>False</td>\n",
       "      <td>False</td>\n",
       "      <td>False</td>\n",
       "      <td>False</td>\n",
       "      <td>False</td>\n",
       "      <td>False</td>\n",
       "      <td>False</td>\n",
       "      <td>False</td>\n",
       "      <td>False</td>\n",
       "      <td>False</td>\n",
       "      <td>False</td>\n",
       "      <td>False</td>\n",
       "    </tr>\n",
       "  </tbody>\n",
       "</table>\n",
       "</div>"
      ],
      "text/plain": [
       "   cust_id    age    job  marital  education  default  mortgage   loan  contact_type  duration  contact_num  p_days  p_outcome      y  duration_mins   date  yrmth\n",
       "0    False  False  False    False      False    False     False  False         False     False        False   False      False  False          False  False  False\n",
       "1    False  False  False    False      False    False     False  False         False     False        False   False      False  False          False  False  False\n",
       "2    False  False  False    False      False    False     False  False         False     False        False   False      False  False          False  False  False\n",
       "3    False  False  False    False      False    False     False  False         False     False        False   False      False  False          False  False  False\n",
       "4    False  False  False    False      False    False     False  False         False     False        False   False      False  False          False  False  False"
      ]
     },
     "execution_count": 31,
     "metadata": {},
     "output_type": "execute_result"
    }
   ],
   "source": [
    "# Check missing for every element, return True if missing \n",
    "cmpn.isnull().head()"
   ]
  },
  {
   "cell_type": "code",
   "execution_count": 32,
   "id": "a12690f2",
   "metadata": {},
   "outputs": [
    {
     "data": {
      "text/plain": [
       "True"
      ]
     },
     "execution_count": 32,
     "metadata": {},
     "output_type": "execute_result"
    }
   ],
   "source": [
    "# Check if the entire dataset has any NA values\n",
    "cmpn.isnull().any(axis=None)"
   ]
  },
  {
   "cell_type": "code",
   "execution_count": 33,
   "id": "8faed05d",
   "metadata": {},
   "outputs": [
    {
     "data": {
      "text/plain": [
       "cust_id          False\n",
       "age               True\n",
       "job              False\n",
       "marital          False\n",
       "education         True\n",
       "default          False\n",
       "mortgage         False\n",
       "loan             False\n",
       "contact_type     False\n",
       "duration         False\n",
       "contact_num      False\n",
       "p_days           False\n",
       "p_outcome        False\n",
       "y                 True\n",
       "duration_mins    False\n",
       "date             False\n",
       "yrmth            False\n",
       "dtype: bool"
      ]
     },
     "execution_count": 33,
     "metadata": {},
     "output_type": "execute_result"
    }
   ],
   "source": [
    "# Check missing for each column\n",
    "cmpn.isnull().any(axis=0)"
   ]
  },
  {
   "cell_type": "code",
   "execution_count": 34,
   "id": "ac7ba75e",
   "metadata": {},
   "outputs": [
    {
     "data": {
      "text/plain": [
       "0    False\n",
       "1    False\n",
       "2    False\n",
       "3    False\n",
       "4    False\n",
       "dtype: bool"
      ]
     },
     "execution_count": 34,
     "metadata": {},
     "output_type": "execute_result"
    }
   ],
   "source": [
    "# Check missing for each observation\n",
    "cmpn.isnull().any(axis=1).head()"
   ]
  },
  {
   "cell_type": "code",
   "execution_count": 35,
   "id": "d633f315",
   "metadata": {},
   "outputs": [
    {
     "data": {
      "text/plain": [
       "cust_id             0\n",
       "age               500\n",
       "job                 0\n",
       "marital             0\n",
       "education        1731\n",
       "default             0\n",
       "mortgage            0\n",
       "loan                0\n",
       "contact_type        0\n",
       "duration            0\n",
       "contact_num         0\n",
       "p_days              0\n",
       "p_outcome           0\n",
       "y                 100\n",
       "duration_mins       0\n",
       "date                0\n",
       "yrmth               0\n",
       "dtype: int64"
      ]
     },
     "execution_count": 35,
     "metadata": {},
     "output_type": "execute_result"
    }
   ],
   "source": [
    "# Check number of missing values for each column\n",
    "cmpn.isnull().sum(axis=0)"
   ]
  },
  {
   "cell_type": "code",
   "execution_count": 38,
   "id": "ba243706",
   "metadata": {},
   "outputs": [
    {
     "data": {
      "text/plain": [
       "cust_id                   int64\n",
       "age                     float64\n",
       "job                      object\n",
       "marital                  object\n",
       "education                object\n",
       "default                  object\n",
       "mortgage                 object\n",
       "loan                     object\n",
       "contact_type             object\n",
       "duration                  int64\n",
       "contact_num               int64\n",
       "p_days                    int64\n",
       "p_outcome                object\n",
       "y                        object\n",
       "duration_mins           float64\n",
       "date             datetime64[ns]\n",
       "yrmth                    object\n",
       "dtype: object"
      ]
     },
     "execution_count": 38,
     "metadata": {},
     "output_type": "execute_result"
    }
   ],
   "source": [
    "col_type = cmpn.dtypes\n",
    "col_type"
   ]
  },
  {
   "cell_type": "code",
   "execution_count": 39,
   "id": "573b3171",
   "metadata": {},
   "outputs": [
    {
     "name": "stdout",
     "output_type": "stream",
     "text": [
      "['job', 'marital', 'education', 'default', 'mortgage', 'loan', 'contact_type', 'p_outcome', 'y', 'yrmth']\n"
     ]
    }
   ],
   "source": [
    "var_cat = col_type[col_type=='object'].index.tolist()\n",
    "print(var_cat)"
   ]
  },
  {
   "cell_type": "code",
   "execution_count": 40,
   "id": "5726b7f5",
   "metadata": {},
   "outputs": [
    {
     "name": "stdout",
     "output_type": "stream",
     "text": [
      "0 - job:\n",
      "admin.           10422\n",
      "blue-collar       9254\n",
      "technician        6743\n",
      "services          3969\n",
      "management        2924\n",
      "retired           1720\n",
      "entrepreneur      1456\n",
      "self-employed     1421\n",
      "housemaid         1060\n",
      "unemployed        1014\n",
      "student            875\n",
      "                   330\n",
      "Name: job, dtype: int64\n",
      "-------------------------------------------------------\n",
      "\n",
      "1 - marital:\n",
      "married     24928\n",
      "single      11568\n",
      "divorced     4612\n",
      "               80\n",
      "Name: marital, dtype: int64\n",
      "-------------------------------------------------------\n",
      "\n",
      "2 - education:\n",
      "university.degree      12168\n",
      "high.school             9515\n",
      "basic.9y                6045\n",
      "professional.course     5243\n",
      "basic.4y                4176\n",
      "basic.6y                2292\n",
      "NaN                     1731\n",
      "illiterate                18\n",
      "Name: education, dtype: int64\n",
      "-------------------------------------------------------\n",
      "\n",
      "3 - default:\n",
      "no     32588\n",
      "        8597\n",
      "yes        3\n",
      "Name: default, dtype: int64\n",
      "-------------------------------------------------------\n",
      "\n",
      "4 - mortgage:\n",
      "yes    21576\n",
      "no     18622\n",
      "         990\n",
      "Name: mortgage, dtype: int64\n",
      "-------------------------------------------------------\n",
      "\n",
      "5 - loan:\n",
      "no     33950\n",
      "yes     6248\n",
      "         990\n",
      "Name: loan, dtype: int64\n",
      "-------------------------------------------------------\n",
      "\n",
      "6 - contact_type:\n",
      "cellular     26144\n",
      "telephone    15044\n",
      "Name: contact_type, dtype: int64\n",
      "-------------------------------------------------------\n",
      "\n",
      "7 - p_outcome:\n",
      "nonexistent    35563\n",
      "failure         4252\n",
      "success         1373\n",
      "Name: p_outcome, dtype: int64\n",
      "-------------------------------------------------------\n",
      "\n",
      "8 - y:\n",
      "no     36459\n",
      "yes     4629\n",
      "NaN      100\n",
      "Name: y, dtype: int64\n",
      "-------------------------------------------------------\n",
      "\n",
      "9 - yrmth:\n",
      "200805    7763\n",
      "200807    6685\n",
      "200905    5794\n",
      "200808    5175\n",
      "200806    4374\n",
      "200811    3616\n",
      "200904    2458\n",
      "200908     770\n",
      "200906     715\n",
      "200910     447\n",
      "200911     357\n",
      "201007     311\n",
      "201009     303\n",
      "200903     282\n",
      "200909     267\n",
      "201003     264\n",
      "201008     233\n",
      "201006     229\n",
      "201005     212\n",
      "201010     204\n",
      "200907     178\n",
      "201004     174\n",
      "200912     172\n",
      "201011     128\n",
      "200810      67\n",
      "200812      10\n",
      "Name: yrmth, dtype: int64\n",
      "-------------------------------------------------------\n",
      "\n"
     ]
    }
   ],
   "source": [
    "for i, var in enumerate(var_cat):\n",
    "    print(str(i) + \" - \" + str(var) + \":\")\n",
    "    print(cmpn[var].value_counts(dropna=False))\n",
    "    print('-------------------------------------------------------')\n",
    "    print()"
   ]
  },
  {
   "cell_type": "code",
   "execution_count": 42,
   "id": "eba7bc48",
   "metadata": {},
   "outputs": [
    {
     "data": {
      "text/plain": [
       "['cust_id', 'date', 'yrmth']"
      ]
     },
     "execution_count": 42,
     "metadata": {},
     "output_type": "execute_result"
    }
   ],
   "source": [
    "var_key = ['cust_id','date','yrmth']\n",
    "var_key"
   ]
  },
  {
   "cell_type": "code",
   "execution_count": 43,
   "id": "00428b07",
   "metadata": {},
   "outputs": [
    {
     "data": {
      "text/plain": [
       "200805    7763\n",
       "200807    6685\n",
       "200905    5794\n",
       "200808    5175\n",
       "200806    4374\n",
       "200811    3616\n",
       "200904    2458\n",
       "200908     770\n",
       "200906     715\n",
       "200910     447\n",
       "200911     357\n",
       "201007     311\n",
       "201009     303\n",
       "200903     282\n",
       "200909     267\n",
       "201003     264\n",
       "201008     233\n",
       "201006     229\n",
       "201005     212\n",
       "201010     204\n",
       "200907     178\n",
       "201004     174\n",
       "200912     172\n",
       "201011     128\n",
       "200810      67\n",
       "200812      10\n",
       "Name: yrmth, dtype: int64"
      ]
     },
     "execution_count": 43,
     "metadata": {},
     "output_type": "execute_result"
    }
   ],
   "source": []
  },
  {
   "cell_type": "code",
   "execution_count": 44,
   "id": "55c8fedf",
   "metadata": {},
   "outputs": [],
   "source": [
    "for var in var_cat:\n",
    "    cmpn.loc[cmpn[var]=='', var] = np.nan"
   ]
  },
  {
   "cell_type": "code",
   "execution_count": 45,
   "id": "4ffdccdf",
   "metadata": {},
   "outputs": [
    {
     "data": {
      "text/html": [
       "<div>\n",
       "<style scoped>\n",
       "    .dataframe tbody tr th:only-of-type {\n",
       "        vertical-align: middle;\n",
       "    }\n",
       "\n",
       "    .dataframe tbody tr th {\n",
       "        vertical-align: top;\n",
       "    }\n",
       "\n",
       "    .dataframe thead th {\n",
       "        text-align: right;\n",
       "    }\n",
       "</style>\n",
       "<table border=\"1\" class=\"dataframe\">\n",
       "  <thead>\n",
       "    <tr style=\"text-align: right;\">\n",
       "      <th></th>\n",
       "      <th>FeatureType</th>\n",
       "      <th>IsMissing</th>\n",
       "      <th>MissingCnt</th>\n",
       "    </tr>\n",
       "  </thead>\n",
       "  <tbody>\n",
       "    <tr>\n",
       "      <th>cust_id</th>\n",
       "      <td>int64</td>\n",
       "      <td>False</td>\n",
       "      <td>0</td>\n",
       "    </tr>\n",
       "    <tr>\n",
       "      <th>age</th>\n",
       "      <td>float64</td>\n",
       "      <td>True</td>\n",
       "      <td>500</td>\n",
       "    </tr>\n",
       "    <tr>\n",
       "      <th>job</th>\n",
       "      <td>object</td>\n",
       "      <td>True</td>\n",
       "      <td>330</td>\n",
       "    </tr>\n",
       "    <tr>\n",
       "      <th>marital</th>\n",
       "      <td>object</td>\n",
       "      <td>True</td>\n",
       "      <td>80</td>\n",
       "    </tr>\n",
       "    <tr>\n",
       "      <th>education</th>\n",
       "      <td>object</td>\n",
       "      <td>True</td>\n",
       "      <td>1731</td>\n",
       "    </tr>\n",
       "    <tr>\n",
       "      <th>default</th>\n",
       "      <td>object</td>\n",
       "      <td>True</td>\n",
       "      <td>8597</td>\n",
       "    </tr>\n",
       "    <tr>\n",
       "      <th>mortgage</th>\n",
       "      <td>object</td>\n",
       "      <td>True</td>\n",
       "      <td>990</td>\n",
       "    </tr>\n",
       "    <tr>\n",
       "      <th>loan</th>\n",
       "      <td>object</td>\n",
       "      <td>True</td>\n",
       "      <td>990</td>\n",
       "    </tr>\n",
       "    <tr>\n",
       "      <th>contact_type</th>\n",
       "      <td>object</td>\n",
       "      <td>False</td>\n",
       "      <td>0</td>\n",
       "    </tr>\n",
       "    <tr>\n",
       "      <th>duration</th>\n",
       "      <td>int64</td>\n",
       "      <td>False</td>\n",
       "      <td>0</td>\n",
       "    </tr>\n",
       "    <tr>\n",
       "      <th>contact_num</th>\n",
       "      <td>int64</td>\n",
       "      <td>False</td>\n",
       "      <td>0</td>\n",
       "    </tr>\n",
       "    <tr>\n",
       "      <th>p_days</th>\n",
       "      <td>int64</td>\n",
       "      <td>False</td>\n",
       "      <td>0</td>\n",
       "    </tr>\n",
       "    <tr>\n",
       "      <th>p_outcome</th>\n",
       "      <td>object</td>\n",
       "      <td>False</td>\n",
       "      <td>0</td>\n",
       "    </tr>\n",
       "    <tr>\n",
       "      <th>y</th>\n",
       "      <td>object</td>\n",
       "      <td>True</td>\n",
       "      <td>100</td>\n",
       "    </tr>\n",
       "    <tr>\n",
       "      <th>duration_mins</th>\n",
       "      <td>float64</td>\n",
       "      <td>False</td>\n",
       "      <td>0</td>\n",
       "    </tr>\n",
       "    <tr>\n",
       "      <th>date</th>\n",
       "      <td>datetime64[ns]</td>\n",
       "      <td>False</td>\n",
       "      <td>0</td>\n",
       "    </tr>\n",
       "    <tr>\n",
       "      <th>yrmth</th>\n",
       "      <td>object</td>\n",
       "      <td>False</td>\n",
       "      <td>0</td>\n",
       "    </tr>\n",
       "  </tbody>\n",
       "</table>\n",
       "</div>"
      ],
      "text/plain": [
       "                  FeatureType  IsMissing  MissingCnt\n",
       "cust_id                 int64      False           0\n",
       "age                   float64       True         500\n",
       "job                    object       True         330\n",
       "marital                object       True          80\n",
       "education              object       True        1731\n",
       "default                object       True        8597\n",
       "mortgage               object       True         990\n",
       "loan                   object       True         990\n",
       "contact_type           object      False           0\n",
       "duration                int64      False           0\n",
       "contact_num             int64      False           0\n",
       "p_days                  int64      False           0\n",
       "p_outcome              object      False           0\n",
       "y                      object       True         100\n",
       "duration_mins         float64      False           0\n",
       "date           datetime64[ns]      False           0\n",
       "yrmth                  object      False           0"
      ]
     },
     "execution_count": 45,
     "metadata": {},
     "output_type": "execute_result"
    }
   ],
   "source": [
    "MissingSummary = pd.concat([cmpn.dtypes, cmpn.isnull().any(axis=0), cmpn.isnull().sum(axis=0)], \n",
    "                           axis=1)\n",
    "MissingSummary.columns = ['FeatureType','IsMissing', 'MissingCnt']\n",
    "MissingSummary"
   ]
  },
  {
   "cell_type": "code",
   "execution_count": 46,
   "id": "ad2bc4a2",
   "metadata": {},
   "outputs": [
    {
     "data": {
      "text/plain": [
       "(41088, 17)"
      ]
     },
     "execution_count": 46,
     "metadata": {},
     "output_type": "execute_result"
    }
   ],
   "source": [
    "# Get rid of customer record if the corresponding y is missing.\n",
    "cmpn.dropna(subset=['y']).shape"
   ]
  },
  {
   "cell_type": "code",
   "execution_count": 47,
   "id": "d71c9d4c",
   "metadata": {},
   "outputs": [],
   "source": [
    "cmpn = cmpn.dropna(subset=['y'])"
   ]
  },
  {
   "cell_type": "code",
   "execution_count": 48,
   "id": "14e15e05",
   "metadata": {},
   "outputs": [],
   "source": [
    "# reset index\n",
    "cmpn = cmpn.reset_index(drop=True)"
   ]
  },
  {
   "cell_type": "code",
   "execution_count": 49,
   "id": "bfbd00cf",
   "metadata": {},
   "outputs": [
    {
     "data": {
      "text/plain": [
       "(41088, 16)"
      ]
     },
     "execution_count": 49,
     "metadata": {},
     "output_type": "execute_result"
    }
   ],
   "source": [
    "cmpn.drop('default', axis=1).shape"
   ]
  },
  {
   "cell_type": "code",
   "execution_count": 51,
   "id": "08b6b5db",
   "metadata": {},
   "outputs": [
    {
     "data": {
      "text/html": [
       "<div>\n",
       "<style scoped>\n",
       "    .dataframe tbody tr th:only-of-type {\n",
       "        vertical-align: middle;\n",
       "    }\n",
       "\n",
       "    .dataframe tbody tr th {\n",
       "        vertical-align: top;\n",
       "    }\n",
       "\n",
       "    .dataframe thead th {\n",
       "        text-align: right;\n",
       "    }\n",
       "</style>\n",
       "<table border=\"1\" class=\"dataframe\">\n",
       "  <thead>\n",
       "    <tr style=\"text-align: right;\">\n",
       "      <th></th>\n",
       "      <th>FeatureType</th>\n",
       "      <th>IsMissing</th>\n",
       "      <th>MissingCnt</th>\n",
       "    </tr>\n",
       "  </thead>\n",
       "  <tbody>\n",
       "    <tr>\n",
       "      <th>cust_id</th>\n",
       "      <td>int64</td>\n",
       "      <td>False</td>\n",
       "      <td>0</td>\n",
       "    </tr>\n",
       "    <tr>\n",
       "      <th>age</th>\n",
       "      <td>float64</td>\n",
       "      <td>True</td>\n",
       "      <td>500</td>\n",
       "    </tr>\n",
       "    <tr>\n",
       "      <th>job</th>\n",
       "      <td>object</td>\n",
       "      <td>True</td>\n",
       "      <td>330</td>\n",
       "    </tr>\n",
       "    <tr>\n",
       "      <th>marital</th>\n",
       "      <td>object</td>\n",
       "      <td>True</td>\n",
       "      <td>80</td>\n",
       "    </tr>\n",
       "    <tr>\n",
       "      <th>education</th>\n",
       "      <td>object</td>\n",
       "      <td>True</td>\n",
       "      <td>1731</td>\n",
       "    </tr>\n",
       "    <tr>\n",
       "      <th>default</th>\n",
       "      <td>object</td>\n",
       "      <td>True</td>\n",
       "      <td>8597</td>\n",
       "    </tr>\n",
       "    <tr>\n",
       "      <th>mortgage</th>\n",
       "      <td>object</td>\n",
       "      <td>True</td>\n",
       "      <td>990</td>\n",
       "    </tr>\n",
       "    <tr>\n",
       "      <th>loan</th>\n",
       "      <td>object</td>\n",
       "      <td>True</td>\n",
       "      <td>990</td>\n",
       "    </tr>\n",
       "    <tr>\n",
       "      <th>contact_type</th>\n",
       "      <td>object</td>\n",
       "      <td>False</td>\n",
       "      <td>0</td>\n",
       "    </tr>\n",
       "    <tr>\n",
       "      <th>duration</th>\n",
       "      <td>int64</td>\n",
       "      <td>False</td>\n",
       "      <td>0</td>\n",
       "    </tr>\n",
       "    <tr>\n",
       "      <th>contact_num</th>\n",
       "      <td>int64</td>\n",
       "      <td>False</td>\n",
       "      <td>0</td>\n",
       "    </tr>\n",
       "    <tr>\n",
       "      <th>p_days</th>\n",
       "      <td>int64</td>\n",
       "      <td>False</td>\n",
       "      <td>0</td>\n",
       "    </tr>\n",
       "    <tr>\n",
       "      <th>p_outcome</th>\n",
       "      <td>object</td>\n",
       "      <td>False</td>\n",
       "      <td>0</td>\n",
       "    </tr>\n",
       "    <tr>\n",
       "      <th>y</th>\n",
       "      <td>object</td>\n",
       "      <td>True</td>\n",
       "      <td>100</td>\n",
       "    </tr>\n",
       "    <tr>\n",
       "      <th>duration_mins</th>\n",
       "      <td>float64</td>\n",
       "      <td>False</td>\n",
       "      <td>0</td>\n",
       "    </tr>\n",
       "    <tr>\n",
       "      <th>date</th>\n",
       "      <td>datetime64[ns]</td>\n",
       "      <td>False</td>\n",
       "      <td>0</td>\n",
       "    </tr>\n",
       "    <tr>\n",
       "      <th>yrmth</th>\n",
       "      <td>object</td>\n",
       "      <td>False</td>\n",
       "      <td>0</td>\n",
       "    </tr>\n",
       "  </tbody>\n",
       "</table>\n",
       "</div>"
      ],
      "text/plain": [
       "                  FeatureType  IsMissing  MissingCnt\n",
       "cust_id                 int64      False           0\n",
       "age                   float64       True         500\n",
       "job                    object       True         330\n",
       "marital                object       True          80\n",
       "education              object       True        1731\n",
       "default                object       True        8597\n",
       "mortgage               object       True         990\n",
       "loan                   object       True         990\n",
       "contact_type           object      False           0\n",
       "duration                int64      False           0\n",
       "contact_num             int64      False           0\n",
       "p_days                  int64      False           0\n",
       "p_outcome              object      False           0\n",
       "y                      object       True         100\n",
       "duration_mins         float64      False           0\n",
       "date           datetime64[ns]      False           0\n",
       "yrmth                  object      False           0"
      ]
     },
     "execution_count": 51,
     "metadata": {},
     "output_type": "execute_result"
    }
   ],
   "source": [
    "# Get rid of attributes with more than 20% missing value\n",
    "MissingSummary"
   ]
  },
  {
   "cell_type": "code",
   "execution_count": 52,
   "id": "ea87d92f",
   "metadata": {},
   "outputs": [
    {
     "data": {
      "text/plain": [
       "['default']"
      ]
     },
     "execution_count": 52,
     "metadata": {},
     "output_type": "execute_result"
    }
   ],
   "source": [
    "DropColumn = MissingSummary[(MissingSummary.MissingCnt/cmpn.shape[0]>0.2)].index.tolist()\n",
    "DropColumn"
   ]
  },
  {
   "cell_type": "code",
   "execution_count": 53,
   "id": "fa9ec448",
   "metadata": {},
   "outputs": [],
   "source": [
    "cmpn = cmpn.drop(DropColumn, axis=1)"
   ]
  },
  {
   "cell_type": "code",
   "execution_count": 54,
   "id": "e77e5883",
   "metadata": {},
   "outputs": [],
   "source": [
    "try:\n",
    "    from sklearn.impute import SimpleImputer # Scikit-Learn 0.20+\n",
    "except ImportError:\n",
    "    from sklearn.preprocessing import Imputer as SimpleImputer"
   ]
  },
  {
   "cell_type": "code",
   "execution_count": 55,
   "id": "8d9e8410",
   "metadata": {},
   "outputs": [
    {
     "data": {
      "text/plain": [
       "SimpleImputer(strategy='median')"
      ]
     },
     "execution_count": 55,
     "metadata": {},
     "output_type": "execute_result"
    }
   ],
   "source": [
    "# Create a SimpleImputer object with strategy = 'median'\n",
    "imputer = SimpleImputer(strategy=\"median\")\n",
    "imputer"
   ]
  },
  {
   "cell_type": "code",
   "execution_count": 57,
   "id": "2406d9c1",
   "metadata": {},
   "outputs": [
    {
     "data": {
      "text/plain": [
       "sklearn.impute._base.SimpleImputer"
      ]
     },
     "execution_count": 57,
     "metadata": {},
     "output_type": "execute_result"
    }
   ],
   "source": [
    "type(imputer)"
   ]
  },
  {
   "cell_type": "code",
   "execution_count": 64,
   "id": "4e2540a6",
   "metadata": {},
   "outputs": [
    {
     "data": {
      "text/html": [
       "<div>\n",
       "<style scoped>\n",
       "    .dataframe tbody tr th:only-of-type {\n",
       "        vertical-align: middle;\n",
       "    }\n",
       "\n",
       "    .dataframe tbody tr th {\n",
       "        vertical-align: top;\n",
       "    }\n",
       "\n",
       "    .dataframe thead th {\n",
       "        text-align: right;\n",
       "    }\n",
       "</style>\n",
       "<table border=\"1\" class=\"dataframe\">\n",
       "  <thead>\n",
       "    <tr style=\"text-align: right;\">\n",
       "      <th></th>\n",
       "      <th>age</th>\n",
       "      <th>duration</th>\n",
       "      <th>contact_num</th>\n",
       "      <th>p_days</th>\n",
       "      <th>duration_mins</th>\n",
       "    </tr>\n",
       "  </thead>\n",
       "  <tbody>\n",
       "    <tr>\n",
       "      <th>44</th>\n",
       "      <td>NaN</td>\n",
       "      <td>165</td>\n",
       "      <td>4</td>\n",
       "      <td>999</td>\n",
       "      <td>2.750000</td>\n",
       "    </tr>\n",
       "    <tr>\n",
       "      <th>65</th>\n",
       "      <td>NaN</td>\n",
       "      <td>5</td>\n",
       "      <td>1</td>\n",
       "      <td>999</td>\n",
       "      <td>0.083333</td>\n",
       "    </tr>\n",
       "    <tr>\n",
       "      <th>257</th>\n",
       "      <td>NaN</td>\n",
       "      <td>1307</td>\n",
       "      <td>1</td>\n",
       "      <td>999</td>\n",
       "      <td>21.783333</td>\n",
       "    </tr>\n",
       "    <tr>\n",
       "      <th>336</th>\n",
       "      <td>NaN</td>\n",
       "      <td>97</td>\n",
       "      <td>2</td>\n",
       "      <td>999</td>\n",
       "      <td>1.616667</td>\n",
       "    </tr>\n",
       "    <tr>\n",
       "      <th>547</th>\n",
       "      <td>NaN</td>\n",
       "      <td>59</td>\n",
       "      <td>1</td>\n",
       "      <td>999</td>\n",
       "      <td>0.983333</td>\n",
       "    </tr>\n",
       "  </tbody>\n",
       "</table>\n",
       "</div>"
      ],
      "text/plain": [
       "     age  duration  contact_num  p_days  duration_mins\n",
       "44   NaN       165            4     999       2.750000\n",
       "65   NaN         5            1     999       0.083333\n",
       "257  NaN      1307            1     999      21.783333\n",
       "336  NaN        97            2     999       1.616667\n",
       "547  NaN        59            1     999       0.983333"
      ]
     },
     "execution_count": 64,
     "metadata": {},
     "output_type": "execute_result"
    }
   ],
   "source": [
    "# Select the numerical columns only\n",
    "var_num = col_type[col_type!='object'].index.tolist()\n",
    "var_num = [item for item in var_num if item not in var_key]\n",
    "cmpn_num = cmpn[var_num]\n",
    "mindex = cmpn_num[cmpn_num.age.isna()].head().index\n",
    "cmpn_num[cmpn_num.age.isna()].head()"
   ]
  },
  {
   "cell_type": "code",
   "execution_count": 65,
   "id": "6ca89fee",
   "metadata": {},
   "outputs": [],
   "source": [
    "# impute missing values with column median\n",
    "X = imputer.fit_transform(cmpn_num)"
   ]
  },
  {
   "cell_type": "code",
   "execution_count": 66,
   "id": "ebcf3f90",
   "metadata": {},
   "outputs": [
    {
     "data": {
      "text/plain": [
       "array([[ 52.        , 108.        ,   2.        , 999.        ,\n",
       "          1.8       ],\n",
       "       [ 31.        , 422.        ,   5.        , 999.        ,\n",
       "          7.03333333],\n",
       "       [ 36.        , 107.        ,  13.        , 999.        ,\n",
       "          1.78333333],\n",
       "       ...,\n",
       "       [ 54.        , 178.        ,   5.        , 999.        ,\n",
       "          2.96666667],\n",
       "       [ 37.        , 219.        ,   2.        , 999.        ,\n",
       "          3.65      ],\n",
       "       [ 40.        , 534.        ,   1.        , 999.        ,\n",
       "          8.9       ]])"
      ]
     },
     "execution_count": 66,
     "metadata": {},
     "output_type": "execute_result"
    }
   ],
   "source": [
    "X"
   ]
  },
  {
   "cell_type": "code",
   "execution_count": 67,
   "id": "2b43f50a",
   "metadata": {},
   "outputs": [
    {
     "data": {
      "text/plain": [
       "array([ 38., 180.,   2., 999.,   3.])"
      ]
     },
     "execution_count": 67,
     "metadata": {},
     "output_type": "execute_result"
    }
   ],
   "source": [
    "imputer.statistics_"
   ]
  },
  {
   "cell_type": "code",
   "execution_count": 68,
   "id": "34cb3734",
   "metadata": {},
   "outputs": [
    {
     "data": {
      "text/plain": [
       "array([ 38., 180.,   2., 999.,   3.])"
      ]
     },
     "execution_count": 68,
     "metadata": {},
     "output_type": "execute_result"
    }
   ],
   "source": [
    "# manually calculate the median for each column\n",
    "cmpn_num.median().values"
   ]
  },
  {
   "cell_type": "code",
   "execution_count": 69,
   "id": "442ad73a",
   "metadata": {},
   "outputs": [],
   "source": [
    "# Add back columns name\n",
    "cmpn_num_df = pd.DataFrame(X, columns=cmpn_num.columns)"
   ]
  },
  {
   "cell_type": "code",
   "execution_count": 70,
   "id": "ea6de7c2",
   "metadata": {},
   "outputs": [
    {
     "data": {
      "text/html": [
       "<div>\n",
       "<style scoped>\n",
       "    .dataframe tbody tr th:only-of-type {\n",
       "        vertical-align: middle;\n",
       "    }\n",
       "\n",
       "    .dataframe tbody tr th {\n",
       "        vertical-align: top;\n",
       "    }\n",
       "\n",
       "    .dataframe thead th {\n",
       "        text-align: right;\n",
       "    }\n",
       "</style>\n",
       "<table border=\"1\" class=\"dataframe\">\n",
       "  <thead>\n",
       "    <tr style=\"text-align: right;\">\n",
       "      <th></th>\n",
       "      <th>age</th>\n",
       "      <th>duration</th>\n",
       "      <th>contact_num</th>\n",
       "      <th>p_days</th>\n",
       "      <th>duration_mins</th>\n",
       "    </tr>\n",
       "  </thead>\n",
       "  <tbody>\n",
       "    <tr>\n",
       "      <th>44</th>\n",
       "      <td>38.0</td>\n",
       "      <td>165.0</td>\n",
       "      <td>4.0</td>\n",
       "      <td>999.0</td>\n",
       "      <td>2.750000</td>\n",
       "    </tr>\n",
       "    <tr>\n",
       "      <th>65</th>\n",
       "      <td>38.0</td>\n",
       "      <td>5.0</td>\n",
       "      <td>1.0</td>\n",
       "      <td>999.0</td>\n",
       "      <td>0.083333</td>\n",
       "    </tr>\n",
       "    <tr>\n",
       "      <th>257</th>\n",
       "      <td>38.0</td>\n",
       "      <td>1307.0</td>\n",
       "      <td>1.0</td>\n",
       "      <td>999.0</td>\n",
       "      <td>21.783333</td>\n",
       "    </tr>\n",
       "    <tr>\n",
       "      <th>336</th>\n",
       "      <td>38.0</td>\n",
       "      <td>97.0</td>\n",
       "      <td>2.0</td>\n",
       "      <td>999.0</td>\n",
       "      <td>1.616667</td>\n",
       "    </tr>\n",
       "    <tr>\n",
       "      <th>547</th>\n",
       "      <td>38.0</td>\n",
       "      <td>59.0</td>\n",
       "      <td>1.0</td>\n",
       "      <td>999.0</td>\n",
       "      <td>0.983333</td>\n",
       "    </tr>\n",
       "  </tbody>\n",
       "</table>\n",
       "</div>"
      ],
      "text/plain": [
       "      age  duration  contact_num  p_days  duration_mins\n",
       "44   38.0     165.0          4.0   999.0       2.750000\n",
       "65   38.0       5.0          1.0   999.0       0.083333\n",
       "257  38.0    1307.0          1.0   999.0      21.783333\n",
       "336  38.0      97.0          2.0   999.0       1.616667\n",
       "547  38.0      59.0          1.0   999.0       0.983333"
      ]
     },
     "execution_count": 70,
     "metadata": {},
     "output_type": "execute_result"
    }
   ],
   "source": [
    "# Validate\n",
    "cmpn_num_df.loc[mindex]"
   ]
  },
  {
   "cell_type": "code",
   "execution_count": 71,
   "id": "64c146d4",
   "metadata": {},
   "outputs": [
    {
     "data": {
      "text/plain": [
       "['job',\n",
       " 'marital',\n",
       " 'education',\n",
       " 'default',\n",
       " 'mortgage',\n",
       " 'loan',\n",
       " 'contact_type',\n",
       " 'p_outcome',\n",
       " 'y',\n",
       " 'yrmth']"
      ]
     },
     "execution_count": 71,
     "metadata": {},
     "output_type": "execute_result"
    }
   ],
   "source": [
    "var_cat"
   ]
  },
  {
   "cell_type": "code",
   "execution_count": 72,
   "id": "52eb5645",
   "metadata": {},
   "outputs": [],
   "source": [
    "# Remove default from var_cat\n",
    "var_cat = [item for item in var_cat if item not in ['default']]\n",
    "cmpn_cat = cmpn[var_cat]"
   ]
  },
  {
   "cell_type": "code",
   "execution_count": 73,
   "id": "ef1cbd69",
   "metadata": {},
   "outputs": [
    {
     "data": {
      "text/html": [
       "<div>\n",
       "<style scoped>\n",
       "    .dataframe tbody tr th:only-of-type {\n",
       "        vertical-align: middle;\n",
       "    }\n",
       "\n",
       "    .dataframe tbody tr th {\n",
       "        vertical-align: top;\n",
       "    }\n",
       "\n",
       "    .dataframe thead th {\n",
       "        text-align: right;\n",
       "    }\n",
       "</style>\n",
       "<table border=\"1\" class=\"dataframe\">\n",
       "  <thead>\n",
       "    <tr style=\"text-align: right;\">\n",
       "      <th></th>\n",
       "      <th>job</th>\n",
       "      <th>marital</th>\n",
       "      <th>education</th>\n",
       "      <th>mortgage</th>\n",
       "      <th>loan</th>\n",
       "      <th>contact_type</th>\n",
       "      <th>p_outcome</th>\n",
       "      <th>y</th>\n",
       "      <th>yrmth</th>\n",
       "    </tr>\n",
       "  </thead>\n",
       "  <tbody>\n",
       "    <tr>\n",
       "      <th>13</th>\n",
       "      <td>services</td>\n",
       "      <td>married</td>\n",
       "      <td>high.school</td>\n",
       "      <td>NaN</td>\n",
       "      <td>NaN</td>\n",
       "      <td>cellular</td>\n",
       "      <td>nonexistent</td>\n",
       "      <td>no</td>\n",
       "      <td>200905</td>\n",
       "    </tr>\n",
       "    <tr>\n",
       "      <th>17</th>\n",
       "      <td>unemployed</td>\n",
       "      <td>married</td>\n",
       "      <td>NaN</td>\n",
       "      <td>yes</td>\n",
       "      <td>no</td>\n",
       "      <td>telephone</td>\n",
       "      <td>nonexistent</td>\n",
       "      <td>no</td>\n",
       "      <td>200805</td>\n",
       "    </tr>\n",
       "    <tr>\n",
       "      <th>34</th>\n",
       "      <td>blue-collar</td>\n",
       "      <td>married</td>\n",
       "      <td>NaN</td>\n",
       "      <td>no</td>\n",
       "      <td>no</td>\n",
       "      <td>cellular</td>\n",
       "      <td>failure</td>\n",
       "      <td>no</td>\n",
       "      <td>200905</td>\n",
       "    </tr>\n",
       "    <tr>\n",
       "      <th>62</th>\n",
       "      <td>NaN</td>\n",
       "      <td>married</td>\n",
       "      <td>NaN</td>\n",
       "      <td>no</td>\n",
       "      <td>no</td>\n",
       "      <td>telephone</td>\n",
       "      <td>nonexistent</td>\n",
       "      <td>no</td>\n",
       "      <td>200805</td>\n",
       "    </tr>\n",
       "    <tr>\n",
       "      <th>70</th>\n",
       "      <td>student</td>\n",
       "      <td>divorced</td>\n",
       "      <td>NaN</td>\n",
       "      <td>no</td>\n",
       "      <td>no</td>\n",
       "      <td>telephone</td>\n",
       "      <td>nonexistent</td>\n",
       "      <td>no</td>\n",
       "      <td>201009</td>\n",
       "    </tr>\n",
       "  </tbody>\n",
       "</table>\n",
       "</div>"
      ],
      "text/plain": [
       "            job   marital    education mortgage loan contact_type    p_outcome   y   yrmth\n",
       "13     services   married  high.school      NaN  NaN     cellular  nonexistent  no  200905\n",
       "17   unemployed   married          NaN      yes   no    telephone  nonexistent  no  200805\n",
       "34  blue-collar   married          NaN       no   no     cellular      failure  no  200905\n",
       "62          NaN   married          NaN       no   no    telephone  nonexistent  no  200805\n",
       "70      student  divorced          NaN       no   no    telephone  nonexistent  no  201009"
      ]
     },
     "execution_count": 73,
     "metadata": {},
     "output_type": "execute_result"
    }
   ],
   "source": [
    "# Show some missing records\n",
    "mindex = cmpn_cat[cmpn_cat.isnull().any(axis='columns')].head().index\n",
    "cmpn_cat[cmpn_cat.isnull().any(axis='columns')].head()"
   ]
  },
  {
   "cell_type": "code",
   "execution_count": 74,
   "id": "8e5f9ed5",
   "metadata": {},
   "outputs": [],
   "source": [
    "class MostFrequentImputer(BaseEstimator, TransformerMixin):\n",
    "    def fit(self, X, y=None):\n",
    "        self.most_frequent_ = pd.Series([X[c].value_counts().index[0] for c in X],\n",
    "                                        index=X.columns)\n",
    "        return self\n",
    "    def transform(self, X, y=None):\n",
    "        return X.fillna(self.most_frequent_)"
   ]
  },
  {
   "cell_type": "code",
   "execution_count": 75,
   "id": "798cc33b",
   "metadata": {},
   "outputs": [],
   "source": [
    "# Create MostFrequentImputer object\n",
    "MI = MostFrequentImputer()"
   ]
  },
  {
   "cell_type": "code",
   "execution_count": 76,
   "id": "c0351a1d",
   "metadata": {},
   "outputs": [
    {
     "data": {
      "text/plain": [
       "MostFrequentImputer()"
      ]
     },
     "execution_count": 76,
     "metadata": {},
     "output_type": "execute_result"
    }
   ],
   "source": [
    "# Calculate the most frequent item for each column\n",
    "MI.fit(cmpn_cat)"
   ]
  },
  {
   "cell_type": "code",
   "execution_count": 77,
   "id": "06a29a6d",
   "metadata": {},
   "outputs": [
    {
     "data": {
      "text/html": [
       "<div>\n",
       "<style scoped>\n",
       "    .dataframe tbody tr th:only-of-type {\n",
       "        vertical-align: middle;\n",
       "    }\n",
       "\n",
       "    .dataframe tbody tr th {\n",
       "        vertical-align: top;\n",
       "    }\n",
       "\n",
       "    .dataframe thead th {\n",
       "        text-align: right;\n",
       "    }\n",
       "</style>\n",
       "<table border=\"1\" class=\"dataframe\">\n",
       "  <thead>\n",
       "    <tr style=\"text-align: right;\">\n",
       "      <th></th>\n",
       "      <th>job</th>\n",
       "      <th>marital</th>\n",
       "      <th>education</th>\n",
       "      <th>mortgage</th>\n",
       "      <th>loan</th>\n",
       "      <th>contact_type</th>\n",
       "      <th>p_outcome</th>\n",
       "      <th>y</th>\n",
       "      <th>yrmth</th>\n",
       "    </tr>\n",
       "  </thead>\n",
       "  <tbody>\n",
       "    <tr>\n",
       "      <th>13</th>\n",
       "      <td>services</td>\n",
       "      <td>married</td>\n",
       "      <td>high.school</td>\n",
       "      <td>yes</td>\n",
       "      <td>no</td>\n",
       "      <td>cellular</td>\n",
       "      <td>nonexistent</td>\n",
       "      <td>no</td>\n",
       "      <td>200905</td>\n",
       "    </tr>\n",
       "    <tr>\n",
       "      <th>17</th>\n",
       "      <td>unemployed</td>\n",
       "      <td>married</td>\n",
       "      <td>university.degree</td>\n",
       "      <td>yes</td>\n",
       "      <td>no</td>\n",
       "      <td>telephone</td>\n",
       "      <td>nonexistent</td>\n",
       "      <td>no</td>\n",
       "      <td>200805</td>\n",
       "    </tr>\n",
       "    <tr>\n",
       "      <th>34</th>\n",
       "      <td>blue-collar</td>\n",
       "      <td>married</td>\n",
       "      <td>university.degree</td>\n",
       "      <td>no</td>\n",
       "      <td>no</td>\n",
       "      <td>cellular</td>\n",
       "      <td>failure</td>\n",
       "      <td>no</td>\n",
       "      <td>200905</td>\n",
       "    </tr>\n",
       "    <tr>\n",
       "      <th>62</th>\n",
       "      <td>admin.</td>\n",
       "      <td>married</td>\n",
       "      <td>university.degree</td>\n",
       "      <td>no</td>\n",
       "      <td>no</td>\n",
       "      <td>telephone</td>\n",
       "      <td>nonexistent</td>\n",
       "      <td>no</td>\n",
       "      <td>200805</td>\n",
       "    </tr>\n",
       "    <tr>\n",
       "      <th>70</th>\n",
       "      <td>student</td>\n",
       "      <td>divorced</td>\n",
       "      <td>university.degree</td>\n",
       "      <td>no</td>\n",
       "      <td>no</td>\n",
       "      <td>telephone</td>\n",
       "      <td>nonexistent</td>\n",
       "      <td>no</td>\n",
       "      <td>201009</td>\n",
       "    </tr>\n",
       "  </tbody>\n",
       "</table>\n",
       "</div>"
      ],
      "text/plain": [
       "            job   marital          education mortgage loan contact_type    p_outcome   y   yrmth\n",
       "13     services   married        high.school      yes   no     cellular  nonexistent  no  200905\n",
       "17   unemployed   married  university.degree      yes   no    telephone  nonexistent  no  200805\n",
       "34  blue-collar   married  university.degree       no   no     cellular      failure  no  200905\n",
       "62       admin.   married  university.degree       no   no    telephone  nonexistent  no  200805\n",
       "70      student  divorced  university.degree       no   no    telephone  nonexistent  no  201009"
      ]
     },
     "execution_count": 77,
     "metadata": {},
     "output_type": "execute_result"
    }
   ],
   "source": [
    "# Impute missing value\n",
    "cmpn_cat_df = MI.transform(cmpn_cat)\n",
    "cmpn_cat_df.loc[mindex]"
   ]
  },
  {
   "cell_type": "code",
   "execution_count": 78,
   "id": "7190598a",
   "metadata": {},
   "outputs": [
    {
     "data": {
      "text/plain": [
       "False"
      ]
     },
     "execution_count": 78,
     "metadata": {},
     "output_type": "execute_result"
    }
   ],
   "source": [
    "#data concatenation\n",
    "cmpn = pd.concat([cmpn[var_key],cmpn_num_df,cmpn_cat_df], axis=1)[cmpn.columns]\n",
    "# Check if the entire dataset has any NA values\n",
    "cmpn.isnull().any(axis=None)"
   ]
  },
  {
   "cell_type": "code",
   "execution_count": 79,
   "id": "6935040b",
   "metadata": {},
   "outputs": [
    {
     "data": {
      "text/plain": [
       "5     13733\n",
       "7      7150\n",
       "8      6168\n",
       "6      5307\n",
       "11     4095\n",
       "4      2626\n",
       "10      713\n",
       "9       570\n",
       "3       544\n",
       "12      182\n",
       "Name: month, dtype: int64"
      ]
     },
     "execution_count": 79,
     "metadata": {},
     "output_type": "execute_result"
    }
   ],
   "source": [
    "#check if response rate has any seasonality\n",
    "# Add month column\n",
    "cmpn['month'] = cmpn.date.dt.month\n",
    "cmpn.month.value_counts()"
   ]
  },
  {
   "cell_type": "code",
   "execution_count": 80,
   "id": "873120c0",
   "metadata": {},
   "outputs": [
    {
     "data": {
      "text/html": [
       "<div>\n",
       "<style scoped>\n",
       "    .dataframe tbody tr th:only-of-type {\n",
       "        vertical-align: middle;\n",
       "    }\n",
       "\n",
       "    .dataframe tbody tr th {\n",
       "        vertical-align: top;\n",
       "    }\n",
       "\n",
       "    .dataframe thead th {\n",
       "        text-align: right;\n",
       "    }\n",
       "</style>\n",
       "<table border=\"1\" class=\"dataframe\">\n",
       "  <thead>\n",
       "    <tr style=\"text-align: right;\">\n",
       "      <th>y</th>\n",
       "      <th>no</th>\n",
       "      <th>yes</th>\n",
       "      <th>All</th>\n",
       "    </tr>\n",
       "    <tr>\n",
       "      <th>month</th>\n",
       "      <th></th>\n",
       "      <th></th>\n",
       "      <th></th>\n",
       "    </tr>\n",
       "  </thead>\n",
       "  <tbody>\n",
       "    <tr>\n",
       "      <th>3</th>\n",
       "      <td>268</td>\n",
       "      <td>276</td>\n",
       "      <td>544</td>\n",
       "    </tr>\n",
       "    <tr>\n",
       "      <th>4</th>\n",
       "      <td>2088</td>\n",
       "      <td>538</td>\n",
       "      <td>2626</td>\n",
       "    </tr>\n",
       "    <tr>\n",
       "      <th>5</th>\n",
       "      <td>12849</td>\n",
       "      <td>884</td>\n",
       "      <td>13733</td>\n",
       "    </tr>\n",
       "    <tr>\n",
       "      <th>6</th>\n",
       "      <td>4748</td>\n",
       "      <td>559</td>\n",
       "      <td>5307</td>\n",
       "    </tr>\n",
       "    <tr>\n",
       "      <th>7</th>\n",
       "      <td>6503</td>\n",
       "      <td>647</td>\n",
       "      <td>7150</td>\n",
       "    </tr>\n",
       "    <tr>\n",
       "      <th>8</th>\n",
       "      <td>5516</td>\n",
       "      <td>652</td>\n",
       "      <td>6168</td>\n",
       "    </tr>\n",
       "    <tr>\n",
       "      <th>9</th>\n",
       "      <td>314</td>\n",
       "      <td>256</td>\n",
       "      <td>570</td>\n",
       "    </tr>\n",
       "    <tr>\n",
       "      <th>10</th>\n",
       "      <td>400</td>\n",
       "      <td>313</td>\n",
       "      <td>713</td>\n",
       "    </tr>\n",
       "    <tr>\n",
       "      <th>11</th>\n",
       "      <td>3680</td>\n",
       "      <td>415</td>\n",
       "      <td>4095</td>\n",
       "    </tr>\n",
       "    <tr>\n",
       "      <th>12</th>\n",
       "      <td>93</td>\n",
       "      <td>89</td>\n",
       "      <td>182</td>\n",
       "    </tr>\n",
       "    <tr>\n",
       "      <th>All</th>\n",
       "      <td>36459</td>\n",
       "      <td>4629</td>\n",
       "      <td>41088</td>\n",
       "    </tr>\n",
       "  </tbody>\n",
       "</table>\n",
       "</div>"
      ],
      "text/plain": [
       "y         no   yes    All\n",
       "month                    \n",
       "3        268   276    544\n",
       "4       2088   538   2626\n",
       "5      12849   884  13733\n",
       "6       4748   559   5307\n",
       "7       6503   647   7150\n",
       "8       5516   652   6168\n",
       "9        314   256    570\n",
       "10       400   313    713\n",
       "11      3680   415   4095\n",
       "12        93    89    182\n",
       "All    36459  4629  41088"
      ]
     },
     "execution_count": 80,
     "metadata": {},
     "output_type": "execute_result"
    }
   ],
   "source": [
    "# Number of contact by month and y\n",
    "res = cmpn.pivot_table(values='cust_id', index='month', columns='y', aggfunc='count', margins=True)\n",
    "res"
   ]
  },
  {
   "cell_type": "code",
   "execution_count": 81,
   "id": "299e8a6c",
   "metadata": {},
   "outputs": [
    {
     "data": {
      "text/html": [
       "<div>\n",
       "<style scoped>\n",
       "    .dataframe tbody tr th:only-of-type {\n",
       "        vertical-align: middle;\n",
       "    }\n",
       "\n",
       "    .dataframe tbody tr th {\n",
       "        vertical-align: top;\n",
       "    }\n",
       "\n",
       "    .dataframe thead th {\n",
       "        text-align: right;\n",
       "    }\n",
       "</style>\n",
       "<table border=\"1\" class=\"dataframe\">\n",
       "  <thead>\n",
       "    <tr style=\"text-align: right;\">\n",
       "      <th>y</th>\n",
       "      <th>no</th>\n",
       "      <th>yes</th>\n",
       "      <th>All</th>\n",
       "      <th>response_rate</th>\n",
       "    </tr>\n",
       "    <tr>\n",
       "      <th>month</th>\n",
       "      <th></th>\n",
       "      <th></th>\n",
       "      <th></th>\n",
       "      <th></th>\n",
       "    </tr>\n",
       "  </thead>\n",
       "  <tbody>\n",
       "    <tr>\n",
       "      <th>3</th>\n",
       "      <td>268</td>\n",
       "      <td>276</td>\n",
       "      <td>544</td>\n",
       "      <td>0.507353</td>\n",
       "    </tr>\n",
       "    <tr>\n",
       "      <th>4</th>\n",
       "      <td>2088</td>\n",
       "      <td>538</td>\n",
       "      <td>2626</td>\n",
       "      <td>0.204874</td>\n",
       "    </tr>\n",
       "    <tr>\n",
       "      <th>5</th>\n",
       "      <td>12849</td>\n",
       "      <td>884</td>\n",
       "      <td>13733</td>\n",
       "      <td>0.064370</td>\n",
       "    </tr>\n",
       "    <tr>\n",
       "      <th>6</th>\n",
       "      <td>4748</td>\n",
       "      <td>559</td>\n",
       "      <td>5307</td>\n",
       "      <td>0.105333</td>\n",
       "    </tr>\n",
       "    <tr>\n",
       "      <th>7</th>\n",
       "      <td>6503</td>\n",
       "      <td>647</td>\n",
       "      <td>7150</td>\n",
       "      <td>0.090490</td>\n",
       "    </tr>\n",
       "    <tr>\n",
       "      <th>8</th>\n",
       "      <td>5516</td>\n",
       "      <td>652</td>\n",
       "      <td>6168</td>\n",
       "      <td>0.105707</td>\n",
       "    </tr>\n",
       "    <tr>\n",
       "      <th>9</th>\n",
       "      <td>314</td>\n",
       "      <td>256</td>\n",
       "      <td>570</td>\n",
       "      <td>0.449123</td>\n",
       "    </tr>\n",
       "    <tr>\n",
       "      <th>10</th>\n",
       "      <td>400</td>\n",
       "      <td>313</td>\n",
       "      <td>713</td>\n",
       "      <td>0.438990</td>\n",
       "    </tr>\n",
       "    <tr>\n",
       "      <th>11</th>\n",
       "      <td>3680</td>\n",
       "      <td>415</td>\n",
       "      <td>4095</td>\n",
       "      <td>0.101343</td>\n",
       "    </tr>\n",
       "    <tr>\n",
       "      <th>12</th>\n",
       "      <td>93</td>\n",
       "      <td>89</td>\n",
       "      <td>182</td>\n",
       "      <td>0.489011</td>\n",
       "    </tr>\n",
       "    <tr>\n",
       "      <th>All</th>\n",
       "      <td>36459</td>\n",
       "      <td>4629</td>\n",
       "      <td>41088</td>\n",
       "      <td>0.112661</td>\n",
       "    </tr>\n",
       "  </tbody>\n",
       "</table>\n",
       "</div>"
      ],
      "text/plain": [
       "y         no   yes    All  response_rate\n",
       "month                                   \n",
       "3        268   276    544       0.507353\n",
       "4       2088   538   2626       0.204874\n",
       "5      12849   884  13733       0.064370\n",
       "6       4748   559   5307       0.105333\n",
       "7       6503   647   7150       0.090490\n",
       "8       5516   652   6168       0.105707\n",
       "9        314   256    570       0.449123\n",
       "10       400   313    713       0.438990\n",
       "11      3680   415   4095       0.101343\n",
       "12        93    89    182       0.489011\n",
       "All    36459  4629  41088       0.112661"
      ]
     },
     "execution_count": 81,
     "metadata": {},
     "output_type": "execute_result"
    }
   ],
   "source": [
    "# Add response rate\n",
    "res['response_rate'] = res.yes / res.All\n",
    "res"
   ]
  },
  {
   "cell_type": "code",
   "execution_count": 82,
   "id": "2c22c2a3",
   "metadata": {},
   "outputs": [
    {
     "data": {
      "text/html": [
       "<div>\n",
       "<style scoped>\n",
       "    .dataframe tbody tr th:only-of-type {\n",
       "        vertical-align: middle;\n",
       "    }\n",
       "\n",
       "    .dataframe tbody tr th {\n",
       "        vertical-align: top;\n",
       "    }\n",
       "\n",
       "    .dataframe thead th {\n",
       "        text-align: right;\n",
       "    }\n",
       "</style>\n",
       "<table border=\"1\" class=\"dataframe\">\n",
       "  <thead>\n",
       "    <tr style=\"text-align: right;\">\n",
       "      <th>y</th>\n",
       "      <th>no</th>\n",
       "      <th>yes</th>\n",
       "      <th>All</th>\n",
       "      <th>response_rate</th>\n",
       "    </tr>\n",
       "    <tr>\n",
       "      <th>month</th>\n",
       "      <th></th>\n",
       "      <th></th>\n",
       "      <th></th>\n",
       "      <th></th>\n",
       "    </tr>\n",
       "  </thead>\n",
       "  <tbody>\n",
       "    <tr>\n",
       "      <th>3</th>\n",
       "      <td>268</td>\n",
       "      <td>276</td>\n",
       "      <td>544</td>\n",
       "      <td>0.507353</td>\n",
       "    </tr>\n",
       "    <tr>\n",
       "      <th>12</th>\n",
       "      <td>93</td>\n",
       "      <td>89</td>\n",
       "      <td>182</td>\n",
       "      <td>0.489011</td>\n",
       "    </tr>\n",
       "    <tr>\n",
       "      <th>9</th>\n",
       "      <td>314</td>\n",
       "      <td>256</td>\n",
       "      <td>570</td>\n",
       "      <td>0.449123</td>\n",
       "    </tr>\n",
       "    <tr>\n",
       "      <th>10</th>\n",
       "      <td>400</td>\n",
       "      <td>313</td>\n",
       "      <td>713</td>\n",
       "      <td>0.438990</td>\n",
       "    </tr>\n",
       "    <tr>\n",
       "      <th>4</th>\n",
       "      <td>2088</td>\n",
       "      <td>538</td>\n",
       "      <td>2626</td>\n",
       "      <td>0.204874</td>\n",
       "    </tr>\n",
       "    <tr>\n",
       "      <th>8</th>\n",
       "      <td>5516</td>\n",
       "      <td>652</td>\n",
       "      <td>6168</td>\n",
       "      <td>0.105707</td>\n",
       "    </tr>\n",
       "    <tr>\n",
       "      <th>6</th>\n",
       "      <td>4748</td>\n",
       "      <td>559</td>\n",
       "      <td>5307</td>\n",
       "      <td>0.105333</td>\n",
       "    </tr>\n",
       "    <tr>\n",
       "      <th>11</th>\n",
       "      <td>3680</td>\n",
       "      <td>415</td>\n",
       "      <td>4095</td>\n",
       "      <td>0.101343</td>\n",
       "    </tr>\n",
       "    <tr>\n",
       "      <th>7</th>\n",
       "      <td>6503</td>\n",
       "      <td>647</td>\n",
       "      <td>7150</td>\n",
       "      <td>0.090490</td>\n",
       "    </tr>\n",
       "    <tr>\n",
       "      <th>5</th>\n",
       "      <td>12849</td>\n",
       "      <td>884</td>\n",
       "      <td>13733</td>\n",
       "      <td>0.064370</td>\n",
       "    </tr>\n",
       "  </tbody>\n",
       "</table>\n",
       "</div>"
      ],
      "text/plain": [
       "y         no  yes    All  response_rate\n",
       "month                                  \n",
       "3        268  276    544       0.507353\n",
       "12        93   89    182       0.489011\n",
       "9        314  256    570       0.449123\n",
       "10       400  313    713       0.438990\n",
       "4       2088  538   2626       0.204874\n",
       "8       5516  652   6168       0.105707\n",
       "6       4748  559   5307       0.105333\n",
       "11      3680  415   4095       0.101343\n",
       "7       6503  647   7150       0.090490\n",
       "5      12849  884  13733       0.064370"
      ]
     },
     "execution_count": 82,
     "metadata": {},
     "output_type": "execute_result"
    }
   ],
   "source": [
    "# Remove \"all\" row and sort by response rate (descending)\n",
    "res1 = res.iloc[:-1,:].sort_values(by='response_rate', ascending=False)\n",
    "res1"
   ]
  },
  {
   "cell_type": "code",
   "execution_count": 83,
   "id": "b03bd4c8",
   "metadata": {},
   "outputs": [
    {
     "data": {
      "text/html": [
       "<div>\n",
       "<style scoped>\n",
       "    .dataframe tbody tr th:only-of-type {\n",
       "        vertical-align: middle;\n",
       "    }\n",
       "\n",
       "    .dataframe tbody tr th {\n",
       "        vertical-align: top;\n",
       "    }\n",
       "\n",
       "    .dataframe thead th {\n",
       "        text-align: right;\n",
       "    }\n",
       "</style>\n",
       "<table border=\"1\" class=\"dataframe\">\n",
       "  <thead>\n",
       "    <tr style=\"text-align: right;\">\n",
       "      <th>y</th>\n",
       "      <th>no</th>\n",
       "      <th>yes</th>\n",
       "      <th>All</th>\n",
       "      <th>response_rate</th>\n",
       "    </tr>\n",
       "    <tr>\n",
       "      <th>month</th>\n",
       "      <th></th>\n",
       "      <th></th>\n",
       "      <th></th>\n",
       "      <th></th>\n",
       "    </tr>\n",
       "  </thead>\n",
       "  <tbody>\n",
       "    <tr>\n",
       "      <th>All</th>\n",
       "      <td>36459</td>\n",
       "      <td>4629</td>\n",
       "      <td>41088</td>\n",
       "      <td>0.112661</td>\n",
       "    </tr>\n",
       "  </tbody>\n",
       "</table>\n",
       "</div>"
      ],
      "text/plain": [
       "y         no   yes    All  response_rate\n",
       "month                                   \n",
       "All    36459  4629  41088       0.112661"
      ]
     },
     "execution_count": 83,
     "metadata": {},
     "output_type": "execute_result"
    }
   ],
   "source": [
    "# Extract \"all\" row\n",
    "res2 = res.iloc[-1:,:]\n",
    "res2"
   ]
  },
  {
   "cell_type": "code",
   "execution_count": 84,
   "id": "2c68969e",
   "metadata": {},
   "outputs": [
    {
     "data": {
      "text/html": [
       "<div>\n",
       "<style scoped>\n",
       "    .dataframe tbody tr th:only-of-type {\n",
       "        vertical-align: middle;\n",
       "    }\n",
       "\n",
       "    .dataframe tbody tr th {\n",
       "        vertical-align: top;\n",
       "    }\n",
       "\n",
       "    .dataframe thead th {\n",
       "        text-align: right;\n",
       "    }\n",
       "</style>\n",
       "<table border=\"1\" class=\"dataframe\">\n",
       "  <thead>\n",
       "    <tr style=\"text-align: right;\">\n",
       "      <th>y</th>\n",
       "      <th>no</th>\n",
       "      <th>yes</th>\n",
       "      <th>All</th>\n",
       "      <th>response_rate</th>\n",
       "    </tr>\n",
       "    <tr>\n",
       "      <th>month</th>\n",
       "      <th></th>\n",
       "      <th></th>\n",
       "      <th></th>\n",
       "      <th></th>\n",
       "    </tr>\n",
       "  </thead>\n",
       "  <tbody>\n",
       "    <tr>\n",
       "      <th>3</th>\n",
       "      <td>268</td>\n",
       "      <td>276</td>\n",
       "      <td>544</td>\n",
       "      <td>0.507353</td>\n",
       "    </tr>\n",
       "    <tr>\n",
       "      <th>12</th>\n",
       "      <td>93</td>\n",
       "      <td>89</td>\n",
       "      <td>182</td>\n",
       "      <td>0.489011</td>\n",
       "    </tr>\n",
       "    <tr>\n",
       "      <th>9</th>\n",
       "      <td>314</td>\n",
       "      <td>256</td>\n",
       "      <td>570</td>\n",
       "      <td>0.449123</td>\n",
       "    </tr>\n",
       "    <tr>\n",
       "      <th>10</th>\n",
       "      <td>400</td>\n",
       "      <td>313</td>\n",
       "      <td>713</td>\n",
       "      <td>0.438990</td>\n",
       "    </tr>\n",
       "    <tr>\n",
       "      <th>4</th>\n",
       "      <td>2088</td>\n",
       "      <td>538</td>\n",
       "      <td>2626</td>\n",
       "      <td>0.204874</td>\n",
       "    </tr>\n",
       "    <tr>\n",
       "      <th>8</th>\n",
       "      <td>5516</td>\n",
       "      <td>652</td>\n",
       "      <td>6168</td>\n",
       "      <td>0.105707</td>\n",
       "    </tr>\n",
       "    <tr>\n",
       "      <th>6</th>\n",
       "      <td>4748</td>\n",
       "      <td>559</td>\n",
       "      <td>5307</td>\n",
       "      <td>0.105333</td>\n",
       "    </tr>\n",
       "    <tr>\n",
       "      <th>11</th>\n",
       "      <td>3680</td>\n",
       "      <td>415</td>\n",
       "      <td>4095</td>\n",
       "      <td>0.101343</td>\n",
       "    </tr>\n",
       "    <tr>\n",
       "      <th>7</th>\n",
       "      <td>6503</td>\n",
       "      <td>647</td>\n",
       "      <td>7150</td>\n",
       "      <td>0.090490</td>\n",
       "    </tr>\n",
       "    <tr>\n",
       "      <th>5</th>\n",
       "      <td>12849</td>\n",
       "      <td>884</td>\n",
       "      <td>13733</td>\n",
       "      <td>0.064370</td>\n",
       "    </tr>\n",
       "    <tr>\n",
       "      <th>All</th>\n",
       "      <td>36459</td>\n",
       "      <td>4629</td>\n",
       "      <td>41088</td>\n",
       "      <td>0.112661</td>\n",
       "    </tr>\n",
       "  </tbody>\n",
       "</table>\n",
       "</div>"
      ],
      "text/plain": [
       "y         no   yes    All  response_rate\n",
       "month                                   \n",
       "3        268   276    544       0.507353\n",
       "12        93    89    182       0.489011\n",
       "9        314   256    570       0.449123\n",
       "10       400   313    713       0.438990\n",
       "4       2088   538   2626       0.204874\n",
       "8       5516   652   6168       0.105707\n",
       "6       4748   559   5307       0.105333\n",
       "11      3680   415   4095       0.101343\n",
       "7       6503   647   7150       0.090490\n",
       "5      12849   884  13733       0.064370\n",
       "All    36459  4629  41088       0.112661"
      ]
     },
     "execution_count": 84,
     "metadata": {},
     "output_type": "execute_result"
    }
   ],
   "source": [
    "# concatenate res1 and res2\n",
    "pd.concat([res1,res2], axis=0)"
   ]
  },
  {
   "cell_type": "code",
   "execution_count": 85,
   "id": "cc09e343",
   "metadata": {},
   "outputs": [
    {
     "data": {
      "image/png": "[encoded data removed]",
      "text/plain": [
       "<Figure size 1440x360 with 1 Axes>"
      ]
     },
     "metadata": {
      "needs_background": "light"
     },
     "output_type": "display_data"
    }
   ],
   "source": [
    "#Visualize\n",
    "plt.subplots(figsize=(20,5))\n",
    "sns.countplot(x = 'job', data = cmpn)\n",
    "sns.despine() # try to see the difference without running sns.despine()"
   ]
  },
  {
   "cell_type": "code",
   "execution_count": 86,
   "id": "82178718",
   "metadata": {},
   "outputs": [
    {
     "data": {
      "image/png": "[encoded data removed]",
      "text/plain": [
       "<Figure size 1440x360 with 1 Axes>"
      ]
     },
     "metadata": {
      "needs_background": "light"
     },
     "output_type": "display_data"
    }
   ],
   "source": [
    "# Add chart title, xlabel and ylabel\n",
    "\n",
    "fig, ax1 = plt.subplots(figsize=(20,5))\n",
    "sns.countplot(x = 'job', data = cmpn, ax = ax1)\n",
    "ax1.set_xlabel('Job', fontsize=15)\n",
    "ax1.set_ylabel('Count', fontsize=15)\n",
    "ax1.set_title('Job Count Distribution', fontsize=15)\n",
    "ax1.tick_params(labelsize=15)\n",
    "sns.despine()"
   ]
  },
  {
   "cell_type": "code",
   "execution_count": 87,
   "id": "de3efbc1",
   "metadata": {},
   "outputs": [
    {
     "data": {
      "image/png": "[encoded data removed]",
      "text/plain": [
       "<Figure size 576x360 with 1 Axes>"
      ]
     },
     "metadata": {
      "needs_background": "light"
     },
     "output_type": "display_data"
    }
   ],
   "source": [
    "plt.subplots(figsize=(8,5))\n",
    "sns.boxplot(x='y', y='duration', data=cmpn)\n",
    "sns.despine()"
   ]
  },
  {
   "cell_type": "code",
   "execution_count": 88,
   "id": "c89301e1",
   "metadata": {},
   "outputs": [
    {
     "data": {
      "image/png": "[encoded data removed]",
      "text/plain": [
       "<Figure size 576x360 with 1 Axes>"
      ]
     },
     "metadata": {
      "needs_background": "light"
     },
     "output_type": "display_data"
    }
   ],
   "source": [
    "fig, ax1= plt.subplots(figsize=(8,5))\n",
    "sns.boxplot(x='y', y='duration', data=cmpn, ax=ax1)\n",
    "ax1.set_xlabel('y', fontsize=15)\n",
    "ax1.set_ylabel('Duration', fontsize=15)\n",
    "ax1.set_title('Duration Distribution', fontsize=15)\n",
    "ax1.tick_params(labelsize=15)\n",
    "sns.despine()"
   ]
  },
  {
   "cell_type": "code",
   "execution_count": 89,
   "id": "d148f2bd",
   "metadata": {},
   "outputs": [
    {
     "data": {
      "text/plain": [
       "0    36459\n",
       "1     4629\n",
       "Name: y, dtype: int64"
      ]
     },
     "execution_count": 89,
     "metadata": {},
     "output_type": "execute_result"
    }
   ],
   "source": [
    "#Predict who is more likely to respond the campaign\n",
    "df = cmpn.copy()\n",
    "# Change the outcome to binary, i.e. 0 and 1\n",
    "df.loc[df.y=='no','y'] = 0\n",
    "df.loc[df.y=='yes','y'] = 1\n",
    "df['y'] = df.y.astype('int64')\n",
    "df.y.value_counts()"
   ]
  },
  {
   "cell_type": "code",
   "execution_count": 90,
   "id": "62d6847a",
   "metadata": {},
   "outputs": [
    {
     "name": "stdout",
     "output_type": "stream",
     "text": [
      "month:\n",
      "   month  num_contact  response_rate\n",
      "0      3          544       0.507353\n",
      "9     12          182       0.489011\n",
      "6      9          570       0.449123\n",
      "7     10          713       0.438990\n",
      "1      4         2626       0.204874\n",
      "10   All        41088       0.112661\n",
      "5      8         6168       0.105707\n",
      "3      6         5307       0.105333\n",
      "8     11         4095       0.101343\n",
      "4      7         7150       0.090490\n",
      "2      5        13733       0.064370\n",
      "-------------------------------------------------------------------------\n",
      "job:\n",
      "              job  num_contact  response_rate\n",
      "8         student          873       0.313860\n",
      "5         retired         1715       0.253061\n",
      "10     unemployed         1012       0.142292\n",
      "0          admin.        10722       0.128987\n",
      "11            All        41088       0.112661\n",
      "4      management         2917       0.112444\n",
      "9      technician         6725       0.108401\n",
      "6   self-employed         1417       0.105152\n",
      "3       housemaid         1057       0.100284\n",
      "2    entrepreneur         1454       0.085282\n",
      "7        services         3963       0.081252\n",
      "1     blue-collar         9233       0.068883\n",
      "-------------------------------------------------------------------------\n",
      "marital:\n",
      "    marital  num_contact  response_rate\n",
      "2    single        11538       0.139886\n",
      "3       All        41088       0.112661\n",
      "0  divorced         4596       0.103133\n",
      "1   married        24954       0.101827\n",
      "-------------------------------------------------------------------------\n",
      "education:\n",
      "             education  num_contact  response_rate\n",
      "4           illiterate           18       0.222222\n",
      "6    university.degree        13853       0.138309\n",
      "5  professional.course         5231       0.113554\n",
      "7                  All        41088       0.112661\n",
      "3          high.school         9497       0.108034\n",
      "0             basic.4y         4170       0.102638\n",
      "1             basic.6y         2286       0.082240\n",
      "2             basic.9y         6033       0.078402\n",
      "-------------------------------------------------------------------------\n",
      "mortgage:\n",
      "  mortgage  num_contact  response_rate\n",
      "1      yes        22505       0.115796\n",
      "2      All        41088       0.112661\n",
      "0       no        18583       0.108863\n",
      "-------------------------------------------------------------------------\n",
      "loan:\n",
      "  loan  num_contact  response_rate\n",
      "0   no        34857       0.113234\n",
      "2  All        41088       0.112661\n",
      "1  yes         6231       0.109453\n",
      "-------------------------------------------------------------------------\n",
      "contact_type:\n",
      "  contact_type  num_contact  response_rate\n",
      "0     cellular        26085       0.147364\n",
      "2          All        41088       0.112661\n",
      "1    telephone        15003       0.052323\n",
      "-------------------------------------------------------------------------\n",
      "p_outcome:\n",
      "     p_outcome  num_contact  response_rate\n",
      "2      success         1370       0.651825\n",
      "0      failure         4245       0.142049\n",
      "3          All        41088       0.112661\n",
      "1  nonexistent        35473       0.088321\n",
      "-------------------------------------------------------------------------\n",
      "y:\n",
      "     y  num_contact  response_rate\n",
      "1  yes         4629       1.000000\n",
      "2  All        41088       0.112661\n",
      "0   no        36459       0.000000\n",
      "-------------------------------------------------------------------------\n"
     ]
    }
   ],
   "source": [
    "# response rate by different categorical variables\n",
    "for var in ['month']+var_cat[:-1]:\n",
    "    df1 = pd.crosstab(cmpn[var], cmpn.y, margins= True)\n",
    "    df1.reset_index(inplace = True)\n",
    "    df1.columns.name = ''\n",
    "    df1['num_contact'] = df1.no + df1.yes\n",
    "    df1['response_rate'] = df1.yes / df1.num_contact\n",
    "    df1 = df1[[var, 'num_contact', 'response_rate']]\n",
    "    df1.sort_values(by='response_rate', ascending=False, inplace=True)\n",
    "    print(str(var) + \":\")\n",
    "    print(df1)\n",
    "    print('-------------------------------------------------------------------------')"
   ]
  },
  {
   "cell_type": "code",
   "execution_count": 91,
   "id": "bbfd2949",
   "metadata": {},
   "outputs": [
    {
     "name": "stdout",
     "output_type": "stream",
     "text": [
      "0    39079\n",
      "1     2009\n",
      "Name: seasonality, dtype: int64\n",
      "int64\n"
     ]
    }
   ],
   "source": [
    "df.loc[df.month.isin([3,9,10,12]),'seasonality'] = 1\n",
    "df.loc[~df.month.isin([3,9,10,12]),'seasonality'] = 0\n",
    "df.loc[:,'seasonality'] = df.seasonality.astype('int64')\n",
    "print(df.seasonality.value_counts(dropna=False))\n",
    "print(df.seasonality.dtypes)"
   ]
  },
  {
   "cell_type": "code",
   "execution_count": 92,
   "id": "c8edb502",
   "metadata": {},
   "outputs": [
    {
     "name": "stdout",
     "output_type": "stream",
     "text": [
      "0    40215\n",
      "1      873\n",
      "Name: student, dtype: int64\n",
      "int64\n"
     ]
    }
   ],
   "source": [
    "df.loc[df.job=='student','student'] = 1\n",
    "df.loc[df.job!='student','student'] = 0\n",
    "df.loc[:,'student'] = df.student.astype('int64')\n",
    "print(df.student.value_counts(dropna=False))\n",
    "print(df.student.dtypes)"
   ]
  },
  {
   "cell_type": "code",
   "execution_count": 93,
   "id": "6d922a02",
   "metadata": {},
   "outputs": [
    {
     "name": "stdout",
     "output_type": "stream",
     "text": [
      "0    39373\n",
      "1     1715\n",
      "Name: retired, dtype: int64\n",
      "int64\n"
     ]
    }
   ],
   "source": [
    "df.loc[df.job=='retired','retired'] = 1\n",
    "df.loc[~(df.job=='retired'),'retired'] = 0\n",
    "df.loc[:,'retired'] = df.retired.astype('int64')\n",
    "print(df.retired.value_counts(dropna=False))\n",
    "print(df.retired.dtypes)"
   ]
  },
  {
   "cell_type": "code",
   "execution_count": 94,
   "id": "013115b9",
   "metadata": {},
   "outputs": [
    {
     "name": "stdout",
     "output_type": "stream",
     "text": [
      "0    39718\n",
      "1     1370\n",
      "Name: success, dtype: int64\n",
      "int64\n"
     ]
    }
   ],
   "source": [
    "df.loc[df.p_outcome=='success','success'] = 1\n",
    "df.loc[df.p_outcome!='success','success'] = 0\n",
    "df.loc[:,'success'] = df.success.astype('int64')\n",
    "print(df.success.value_counts(dropna=False))\n",
    "print(df.success.dtypes)"
   ]
  },
  {
   "cell_type": "code",
   "execution_count": 95,
   "id": "0f3d6220",
   "metadata": {},
   "outputs": [],
   "source": [
    "X = df[['student','retired','seasonality','success',\n",
    "         'age','duration','contact_num','p_days']]\n",
    "y = df.y"
   ]
  },
  {
   "cell_type": "code",
   "execution_count": 96,
   "id": "b40cb876",
   "metadata": {},
   "outputs": [],
   "source": [
    "from sklearn.model_selection import train_test_split\n",
    "\n",
    "X_train, X_test, y_train, y_test = train_test_split(X, y, test_size=0.2, random_state=824)"
   ]
  },
  {
   "cell_type": "code",
   "execution_count": 97,
   "id": "4200a7ce",
   "metadata": {},
   "outputs": [
    {
     "name": "stdout",
     "output_type": "stream",
     "text": [
      "(32870, 8) (32870,)\n",
      "(8218, 8) (8218,)\n"
     ]
    }
   ],
   "source": [
    "print(X_train.shape, y_train.shape)\n",
    "print(X_test.shape, y_test.shape)"
   ]
  },
  {
   "cell_type": "code",
   "execution_count": 98,
   "id": "f59ac7d7",
   "metadata": {},
   "outputs": [
    {
     "data": {
      "text/plain": [
       "RandomForestClassifier(max_depth=7, random_state=824)"
      ]
     },
     "execution_count": 98,
     "metadata": {},
     "output_type": "execute_result"
    }
   ],
   "source": [
    "#Model Fitting\n",
    "from sklearn.ensemble import RandomForestClassifier\n",
    "rf_clf = RandomForestClassifier(max_depth=7, random_state=824)\n",
    "rf_clf.fit(X_train, y_train)"
   ]
  },
  {
   "cell_type": "code",
   "execution_count": 99,
   "id": "6e8c58df",
   "metadata": {},
   "outputs": [
    {
     "name": "stdout",
     "output_type": "stream",
     "text": [
      "student = 0.012\n",
      "retired = 0.009\n",
      "seasonality = 0.125\n",
      "success = 0.100\n",
      "age = 0.071\n",
      "duration = 0.473\n",
      "contact_num = 0.016\n",
      "p_days = 0.194\n"
     ]
    }
   ],
   "source": [
    "for name, importance in zip(X_train.columns.tolist(), rf_clf.feature_importances_):\n",
    "    print('%s = %.3f' %(name, importance))"
   ]
  },
  {
   "cell_type": "code",
   "execution_count": 100,
   "id": "7b983c10",
   "metadata": {},
   "outputs": [
    {
     "data": {
      "image/png": "[encoded data removed]",
      "text/plain": [
       "<Figure size 432x288 with 1 Axes>"
      ]
     },
     "metadata": {
      "needs_background": "light"
     },
     "output_type": "display_data"
    }
   ],
   "source": [
    "features = X_train.columns.tolist()\n",
    "importances = rf_clf.feature_importances_\n",
    "indices = np.argsort(importances)\n",
    "\n",
    "plt.title('Feature Importances')\n",
    "plt.barh(range(len(indices)), importances[indices], color='b', align='center')\n",
    "plt.yticks(range(len(indices)), [features[i] for i in indices])\n",
    "plt.xlabel('Relative Importance')\n",
    "plt.show()"
   ]
  },
  {
   "cell_type": "code",
   "execution_count": 101,
   "id": "eaae72ad",
   "metadata": {},
   "outputs": [
    {
     "name": "stdout",
     "output_type": "stream",
     "text": [
      "RF train accuracy: 0.909\n",
      "RF test accuracy: 0.903\n"
     ]
    }
   ],
   "source": [
    "print(\"RF train accuracy: %0.3f\" % rf_clf.score(X_train, y_train))\n",
    "print(\"RF test accuracy: %0.3f\" % rf_clf.score(X_test, y_test))"
   ]
  },
  {
   "cell_type": "code",
   "execution_count": 102,
   "id": "38c19970",
   "metadata": {},
   "outputs": [
    {
     "name": "stdout",
     "output_type": "stream",
     "text": [
      "RF train AUC : 0.9069435903250207\n",
      "RF test AUC: 0.8990467464560981\n"
     ]
    }
   ],
   "source": [
    "from sklearn.metrics import roc_auc_score\n",
    "print('RF train AUC : %s' % roc_auc_score(y_train, rf_clf.predict_proba(X_train)[:,1]))\n",
    "print('RF test AUC: %s' % roc_auc_score(y_test, rf_clf.predict_proba(X_test)[:,1]))"
   ]
  },
  {
   "cell_type": "code",
   "execution_count": null,
   "id": "85282180",
   "metadata": {},
   "outputs": [],
   "source": []
  }
 ],
 "metadata": {
  "kernelspec": {
   "display_name": "Python 3",
   "language": "python",
   "name": "python3"
  },
  "language_info": {
   "codemirror_mode": {
    "name": "ipython",
    "version": 3
   },
   "file_extension": ".py",
   "mimetype": "text/x-python",
   "name": "python",
   "nbconvert_exporter": "python",
   "pygments_lexer": "ipython3",
   "version": "3.8.8"
  }
 },
 "nbformat": 4,
 "nbformat_minor": 5
}
